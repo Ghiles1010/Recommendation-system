{
  "nbformat": 4,
  "nbformat_minor": 0,
  "metadata": {
    "colab": {
      "name": "Doc2Vec_RS_25GB RAM.ipynb",
      "provenance": [],
      "collapsed_sections": [],
      "machine_shape": "hm",
      "include_colab_link": true
    },
    "kernelspec": {
      "name": "python3",
      "display_name": "Python 3"
    }
  },
  "cells": [
    {
      "cell_type": "markdown",
      "metadata": {
        "id": "view-in-github",
        "colab_type": "text"
      },
      "source": [
        "<a href=\"https://colab.research.google.com/github/Ghiles1010/Recommendation-system/blob/master/FC-RN/FC-RN-TAL.ipynb\" target=\"_parent\"><img src=\"https://colab.research.google.com/assets/colab-badge.svg\" alt=\"Open In Colab\"/></a>"
      ]
    },
    {
      "cell_type": "code",
      "metadata": {
        "id": "tAb77yZ9fzMG",
        "outputId": "56dd3d84-214c-408f-fde7-c9590355392d",
        "colab": {
          "base_uri": "https://localhost:8080/",
          "height": 403
        }
      },
      "source": [
        "###########################\n",
        "import os\n",
        "from google.colab import drive\n",
        "drive.mount('/content/drive')\n",
        "os.chdir(\"/content/drive/My Drive/PFE STUFF/Yelp_DB\")\n",
        "!ls"
      ],
      "execution_count": null,
      "outputs": [
        {
          "output_type": "stream",
          "text": [
            "Go to this URL in a browser: https://accounts.google.com/o/oauth2/auth?client_id=947318989803-6bn6qk8qdgf4n4g3pfee6491hc0brc4i.apps.googleusercontent.com&redirect_uri=urn%3aietf%3awg%3aoauth%3a2.0%3aoob&scope=email%20https%3a%2f%2fwww.googleapis.com%2fauth%2fdocs.test%20https%3a%2f%2fwww.googleapis.com%2fauth%2fdrive%20https%3a%2f%2fwww.googleapis.com%2fauth%2fdrive.photos.readonly%20https%3a%2f%2fwww.googleapis.com%2fauth%2fpeopleapi.readonly&response_type=code\n",
            "\n",
            "Enter your authorization code:\n",
            "··········\n",
            "Mounted at /content/drive\n",
            "add_categories.ipynb\t\t\t nosent_violin.png\n",
            "best_regression_model_sent.h5\t\t Ontology_filled.owl\n",
            "best_sent_rn.h5\t\t\t\t Ontology.owl\n",
            "Business_Yelp.json\t\t\t pmf.txt\n",
            "doc2vec150.model\t\t\t regression_model2.h5\n",
            "doc2vec150.model.trainables.syn1neg.npy  regression_model_sentiments.h5\n",
            "doc2vec150.model.wv.vectors.npy\t\t results_sem.txt\n",
            "doc2vec.model\t\t\t\t Review_Yelp.json\n",
            "doc2vec.model.trainables.syn1neg.npy\t sent_analysis.h5\n",
            "doc2vec.model.wv.vectors.npy\t\t sent.txt\n",
            "FC_RN_AS.h5\t\t\t\t sent_violin.png\n",
            "fc_rn_as_res.txt\t\t\t train.txt\n",
            "fc_rn_res.txt\t\t\t\t Users_cat_Yelp.json\n",
            "interest.txt\t\t\t\t User_Yelp.json\n",
            "model.png\t\t\t\t word2vec.model\n",
            "model_rs.png\t\t\t\t word2vec.model.trainables.syn1neg.npy\n",
            "no_sent_violin.png\t\t\t word2vec.model.wv.vectors.npy\n"
          ],
          "name": "stdout"
        }
      ]
    },
    {
      "cell_type": "code",
      "metadata": {
        "id": "pafL7Li0jyXW",
        "outputId": "79e94a7f-049e-464d-e30f-e770d8a4b817",
        "colab": {
          "base_uri": "https://localhost:8080/",
          "height": 369
        }
      },
      "source": [
        "import json\n",
        "import nltk\n",
        "from nltk.tokenize import word_tokenize\n",
        "from nltk.corpus import stopwords\n",
        "#nltk.download('stopwords')\n",
        "#nltk.download('punkt')\n",
        "en_stops = set(stopwords.words('english'))\n",
        "\n",
        "rev = open(\"Review_Yelp.json\")\n",
        "\n",
        "bus = {}\n",
        "cpt = 0\n",
        "\n",
        "for i in rev.readlines()[:1000000]:\n",
        "  \n",
        "  line = json.loads(i)\n",
        "\n",
        "  id = line[\"business_id\"]\n",
        "  text = line[\"text\"]\n",
        "\n",
        "  if bus.get(id) == None:\n",
        "    bus[id] = {}\n",
        "    bus[id][\"comments\"] = []\n",
        "    bus[id][\"nb_words\"] = 0\n",
        "\n",
        "  if len(bus[id][\"comments\"]) <= 1500: # number of total words\n",
        "\n",
        "    text = text.lower()\n",
        "    text = word_tokenize(text)\n",
        "\n",
        "    nb_words = 0\n",
        "    for word in text: \n",
        "      if word not in en_stops:\n",
        "          bus[id][\"comments\"].append(word)\n",
        "          nb_words += 1\n",
        "      if nb_words == 65:\n",
        "        break\n",
        "  \n",
        "  cpt += 1\n",
        "  \t\n",
        "  if cpt%100000 == 0:\n",
        "    print(cpt)\n",
        "  \n",
        "rev.close()"
      ],
      "execution_count": null,
      "outputs": [
        {
          "output_type": "error",
          "ename": "KeyboardInterrupt",
          "evalue": "ignored",
          "traceback": [
            "\u001b[0;31m---------------------------------------------------------------------------\u001b[0m",
            "\u001b[0;31mKeyboardInterrupt\u001b[0m                         Traceback (most recent call last)",
            "\u001b[0;32m<ipython-input-45-781d444fa0dd>\u001b[0m in \u001b[0;36m<module>\u001b[0;34m()\u001b[0m\n\u001b[1;32m     27\u001b[0m \u001b[0;34m\u001b[0m\u001b[0m\n\u001b[1;32m     28\u001b[0m     \u001b[0mtext\u001b[0m \u001b[0;34m=\u001b[0m \u001b[0mtext\u001b[0m\u001b[0;34m.\u001b[0m\u001b[0mlower\u001b[0m\u001b[0;34m(\u001b[0m\u001b[0;34m)\u001b[0m\u001b[0;34m\u001b[0m\u001b[0;34m\u001b[0m\u001b[0m\n\u001b[0;32m---> 29\u001b[0;31m     \u001b[0mtext\u001b[0m \u001b[0;34m=\u001b[0m \u001b[0mword_tokenize\u001b[0m\u001b[0;34m(\u001b[0m\u001b[0mtext\u001b[0m\u001b[0;34m)\u001b[0m\u001b[0;34m\u001b[0m\u001b[0;34m\u001b[0m\u001b[0m\n\u001b[0m\u001b[1;32m     30\u001b[0m \u001b[0;34m\u001b[0m\u001b[0m\n\u001b[1;32m     31\u001b[0m     \u001b[0mnb_words\u001b[0m \u001b[0;34m=\u001b[0m \u001b[0;36m0\u001b[0m\u001b[0;34m\u001b[0m\u001b[0;34m\u001b[0m\u001b[0m\n",
            "\u001b[0;32m/usr/local/lib/python3.6/dist-packages/nltk/tokenize/__init__.py\u001b[0m in \u001b[0;36mword_tokenize\u001b[0;34m(text, language, preserve_line)\u001b[0m\n\u001b[1;32m    127\u001b[0m     \"\"\"\n\u001b[1;32m    128\u001b[0m     \u001b[0msentences\u001b[0m \u001b[0;34m=\u001b[0m \u001b[0;34m[\u001b[0m\u001b[0mtext\u001b[0m\u001b[0;34m]\u001b[0m \u001b[0;32mif\u001b[0m \u001b[0mpreserve_line\u001b[0m \u001b[0;32melse\u001b[0m \u001b[0msent_tokenize\u001b[0m\u001b[0;34m(\u001b[0m\u001b[0mtext\u001b[0m\u001b[0;34m,\u001b[0m \u001b[0mlanguage\u001b[0m\u001b[0;34m)\u001b[0m\u001b[0;34m\u001b[0m\u001b[0;34m\u001b[0m\u001b[0m\n\u001b[0;32m--> 129\u001b[0;31m     return [token for sent in sentences\n\u001b[0m\u001b[1;32m    130\u001b[0m             for token in _treebank_word_tokenizer.tokenize(sent)]\n",
            "\u001b[0;32m/usr/local/lib/python3.6/dist-packages/nltk/tokenize/__init__.py\u001b[0m in \u001b[0;36m<listcomp>\u001b[0;34m(.0)\u001b[0m\n\u001b[1;32m    128\u001b[0m     \u001b[0msentences\u001b[0m \u001b[0;34m=\u001b[0m \u001b[0;34m[\u001b[0m\u001b[0mtext\u001b[0m\u001b[0;34m]\u001b[0m \u001b[0;32mif\u001b[0m \u001b[0mpreserve_line\u001b[0m \u001b[0;32melse\u001b[0m \u001b[0msent_tokenize\u001b[0m\u001b[0;34m(\u001b[0m\u001b[0mtext\u001b[0m\u001b[0;34m,\u001b[0m \u001b[0mlanguage\u001b[0m\u001b[0;34m)\u001b[0m\u001b[0;34m\u001b[0m\u001b[0;34m\u001b[0m\u001b[0m\n\u001b[1;32m    129\u001b[0m     return [token for sent in sentences\n\u001b[0;32m--> 130\u001b[0;31m             for token in _treebank_word_tokenizer.tokenize(sent)]\n\u001b[0m",
            "\u001b[0;32m/usr/local/lib/python3.6/dist-packages/nltk/tokenize/treebank.py\u001b[0m in \u001b[0;36mtokenize\u001b[0;34m(self, text, convert_parentheses, return_str)\u001b[0m\n\u001b[1;32m    131\u001b[0m \u001b[0;34m\u001b[0m\u001b[0m\n\u001b[1;32m    132\u001b[0m         \u001b[0;32mfor\u001b[0m \u001b[0mregexp\u001b[0m\u001b[0;34m,\u001b[0m \u001b[0msubstitution\u001b[0m \u001b[0;32min\u001b[0m \u001b[0mself\u001b[0m\u001b[0;34m.\u001b[0m\u001b[0mENDING_QUOTES\u001b[0m\u001b[0;34m:\u001b[0m\u001b[0;34m\u001b[0m\u001b[0;34m\u001b[0m\u001b[0m\n\u001b[0;32m--> 133\u001b[0;31m             \u001b[0mtext\u001b[0m \u001b[0;34m=\u001b[0m \u001b[0mregexp\u001b[0m\u001b[0;34m.\u001b[0m\u001b[0msub\u001b[0m\u001b[0;34m(\u001b[0m\u001b[0msubstitution\u001b[0m\u001b[0;34m,\u001b[0m \u001b[0mtext\u001b[0m\u001b[0;34m)\u001b[0m\u001b[0;34m\u001b[0m\u001b[0;34m\u001b[0m\u001b[0m\n\u001b[0m\u001b[1;32m    134\u001b[0m \u001b[0;34m\u001b[0m\u001b[0m\n\u001b[1;32m    135\u001b[0m         \u001b[0;32mfor\u001b[0m \u001b[0mregexp\u001b[0m \u001b[0;32min\u001b[0m \u001b[0mself\u001b[0m\u001b[0;34m.\u001b[0m\u001b[0mCONTRACTIONS2\u001b[0m\u001b[0;34m:\u001b[0m\u001b[0;34m\u001b[0m\u001b[0;34m\u001b[0m\u001b[0m\n",
            "\u001b[0;31mKeyboardInterrupt\u001b[0m: "
          ]
        }
      ]
    },
    {
      "cell_type": "code",
      "metadata": {
        "id": "GMV5EHfncvPZ"
      },
      "source": [
        "from gensim.models.doc2vec import Doc2Vec, TaggedDocument\n",
        "tagged_data = [TaggedDocument(bus[id][\"comments\"], [id]) for id in bus]"
      ],
      "execution_count": null,
      "outputs": []
    },
    {
      "cell_type": "code",
      "metadata": {
        "id": "JaPNUNgZcx-U"
      },
      "source": [
        "import multiprocessing\n",
        "cpu = multiprocessing.cpu_count()\n",
        "\n",
        "doc_model = Doc2Vec(tagged_data, vector_size=150, window=5, min_count=1, workers = cpu, epochs = 10)\n",
        "doc_model.save(\"doc2vec150.model\")"
      ],
      "execution_count": null,
      "outputs": []
    },
    {
      "cell_type": "code",
      "metadata": {
        "id": "Jak7OZgQc0sC",
        "outputId": "e53eac8b-569f-4e04-caf9-8b71e7b4cf87",
        "colab": {
          "base_uri": "https://localhost:8080/",
          "height": 70
        }
      },
      "source": [
        "os.chdir(\"/content/drive/My Drive/PFE STUFF/Yelp_DB\")\n",
        "from gensim.models.doc2vec import Doc2Vec, TaggedDocument\n",
        "doc_model= Doc2Vec.load(\"doc2vec150.model\")\n"
      ],
      "execution_count": null,
      "outputs": [
        {
          "output_type": "stream",
          "text": [
            "/usr/local/lib/python3.6/dist-packages/smart_open/smart_open_lib.py:254: UserWarning: This function is deprecated, use smart_open.open instead. See the migration notes for details: https://github.com/RaRe-Technologies/smart_open/blob/master/README.rst#migrating-to-the-new-open-function\n",
            "  'See the migration notes for details: %s' % _MIGRATION_NOTES_URL\n"
          ],
          "name": "stderr"
        }
      ]
    },
    {
      "cell_type": "code",
      "metadata": {
        "id": "IJisK0dkc1go",
        "outputId": "d58ca72c-0950-40fd-840c-dbb63155a744",
        "colab": {
          "base_uri": "https://localhost:8080/",
          "height": 303
        }
      },
      "source": [
        "import json\n",
        "import nltk\n",
        "from nltk.tokenize import word_tokenize\n",
        "from nltk.corpus import stopwords\n",
        "nltk.download('stopwords')\n",
        "nltk.download('punkt')\n",
        "def normalize(text):\n",
        "    text = text.lower()\n",
        "    text = word_tokenize(text)\n",
        "    return text\n",
        "\n",
        "test_doc = normalize(\"has a great service i liked the sushis\")\n",
        "doc_model.docvecs.most_similar(positive=[doc_model.infer_vector(test_doc)],topn=10)\n",
        "#doc_model[\"IS4cv902ykd8wj1TR0N3-A\"]"
      ],
      "execution_count": null,
      "outputs": [
        {
          "output_type": "stream",
          "text": [
            "[nltk_data] Downloading package stopwords to /root/nltk_data...\n",
            "[nltk_data]   Package stopwords is already up-to-date!\n",
            "[nltk_data] Downloading package punkt to /root/nltk_data...\n",
            "[nltk_data]   Package punkt is already up-to-date!\n"
          ],
          "name": "stdout"
        },
        {
          "output_type": "stream",
          "text": [
            "/usr/local/lib/python3.6/dist-packages/gensim/matutils.py:737: FutureWarning: Conversion of the second argument of issubdtype from `int` to `np.signedinteger` is deprecated. In future, it will be treated as `np.int64 == np.dtype(int).type`.\n",
            "  if np.issubdtype(vec.dtype, np.int):\n"
          ],
          "name": "stderr"
        },
        {
          "output_type": "execute_result",
          "data": {
            "text/plain": [
              "[('lx4vVJndLJjRmZKQNIaXpA', 0.6440919041633606),\n",
              " ('F8ZTmT9pGiSF2jx9FZDjdQ', 0.6413952708244324),\n",
              " ('0-WocGTpO3Zm4q1Zzz49Rw', 0.6337976455688477),\n",
              " ('mSlVEqqpWdKKfp-O0RWNBw', 0.6335627436637878),\n",
              " ('sHCEi2FXTGzo1D0SIgZUCA', 0.6326776742935181),\n",
              " ('UsYoI0mwqp9wQETA0eiAog', 0.6272621750831604),\n",
              " ('6r0r0cJSLvh2BDir8TaxPw', 0.6232832670211792),\n",
              " ('RQxLNvAra_MUUPHdhukilA', 0.6227654814720154),\n",
              " ('Ejl2X5njahhqUutgfGFwOg', 0.6214480400085449),\n",
              " ('Xp46hv8TxejNDGbJJ2cfQw', 0.6200817227363586)]"
            ]
          },
          "metadata": {
            "tags": []
          },
          "execution_count": 6
        }
      ]
    },
    {
      "cell_type": "markdown",
      "metadata": {
        "id": "VV4xdZB1daQ3"
      },
      "source": [
        "#Format Data"
      ]
    },
    {
      "cell_type": "code",
      "metadata": {
        "id": "WfsHJ_fAdfcv",
        "outputId": "96094a64-25c1-4294-dd75-5407a1b7b902",
        "colab": {
          "base_uri": "https://localhost:8080/",
          "height": 167
        }
      },
      "source": [
        "#os.chdir(\"/content/drive/My Drive/PFE STUFF/Yelp_DB_Final/Yelp_10%\")\n",
        "import json\n",
        "import nltk\n",
        "from nltk.tokenize import word_tokenize\n",
        "from nltk.corpus import stopwords\n",
        "import numpy as np\n",
        "\n",
        "\n",
        "#nltk.download('stopwords')\n",
        "#nltk.download('punkt')\n",
        "en_stops = set(stopwords.words('english'))\n",
        "\n",
        "rev = open(\"Review_Yelp.json\")\n",
        "\n",
        "idu = {}\n",
        "idb = {}\n",
        "\n",
        "cpt = 0\n",
        "train_vec = []\n",
        "\n",
        "global_b = 0\n",
        "global_u = 0\n",
        "\n",
        "import pandas as pd\n",
        "\n",
        "for i in rev.readlines()[:1000000]:\n",
        "  \n",
        "  line = json.loads(i)\n",
        "\n",
        "  user_id = line[\"user_id\"]\n",
        "  prest_id = line[\"business_id\"]\n",
        "\n",
        "  if idu.get(user_id) == None:\n",
        "    idu[user_id] = global_u\n",
        "    global_u += 1\n",
        "\n",
        "  if idb.get(prest_id) == None:\n",
        "    idb[prest_id] = global_b\n",
        "    global_b += 1\n",
        "  \n",
        "  line = [ idu[user_id], idb[prest_id], line[\"stars\"], doc_model[prest_id]]\n",
        "  train_vec.append(np.array(line))\n",
        "\n",
        "\n",
        "\n",
        "\n",
        "  \n",
        "  cpt += 1\n",
        "  \t\n",
        "  if cpt%100000 == 0:\n",
        "    print(cpt)\n",
        "  \n",
        "train_vec = np.array(train_vec)\n",
        "rev.close()"
      ],
      "execution_count": null,
      "outputs": [
        {
          "output_type": "stream",
          "text": [
            "100000\n",
            "200000\n",
            "300000\n",
            "400000\n",
            "500000\n",
            "600000\n",
            "700000\n",
            "800000\n",
            "900000\n"
          ],
          "name": "stdout"
        }
      ]
    },
    {
      "cell_type": "code",
      "metadata": {
        "id": "YVqIuvqlb6CT",
        "outputId": "b8ff4fe6-2968-44c2-d8d5-9360b1968a55",
        "colab": {
          "base_uri": "https://localhost:8080/",
          "height": 250
        }
      },
      "source": [
        "import pandas as pd\n",
        "\n",
        "pd.DataFrame(train_vec).head"
      ],
      "execution_count": null,
      "outputs": [
        {
          "output_type": "execute_result",
          "data": {
            "text/plain": [
              "<bound method NDFrame.head of            0      1  2                                                  3\n",
              "0          0      0  4  [0.7324871, -1.0576589, 0.68459404, -0.2323185...\n",
              "1          1      1  4  [0.7290477, -0.35522324, -0.06824166, -0.22994...\n",
              "2          2      2  4  [0.88792914, -1.1994787, -0.3558788, -0.046334...\n",
              "3          3      3  4  [-1.5746425, -0.4514526, -0.008411887, -1.4302...\n",
              "4          4      4  1  [0.38740888, -0.85932404, -0.07597077, -0.8308...\n",
              "...      ...    ... ..                                                ...\n",
              "908613   474  30400  3  [-2.288844, -0.60704935, 0.57414556, 0.4280769...\n",
              "908614  2150  32402  5  [-0.087114714, -0.07976535, -0.684321, 0.68873...\n",
              "908615  3350  29440  3  [0.75981915, -2.382456, 0.38090044, 0.6317835,...\n",
              "908616  2457  30907  2  [-0.8755783, -0.35241312, 0.53428376, -0.82152...\n",
              "908617  2627  30176  5  [0.36608106, -0.062043726, -0.010301099, -0.50...\n",
              "\n",
              "[908618 rows x 4 columns]>"
            ]
          },
          "metadata": {
            "tags": []
          },
          "execution_count": 50
        }
      ]
    },
    {
      "cell_type": "code",
      "metadata": {
        "id": "iSUipmtYjwaX",
        "outputId": "6010fd0c-c426-4216-fc4e-c4d7db67fba7",
        "colab": {
          "base_uri": "https://localhost:8080/",
          "height": 33
        }
      },
      "source": [
        "os.chdir(\"/content/drive/My Drive/PFE STUFF/MovieLens\")\n",
        "import json\n",
        "import nltk\n",
        "from nltk.tokenize import word_tokenize\n",
        "from nltk.corpus import stopwords\n",
        "import numpy as np\n",
        "\n",
        "\n",
        "#nltk.download('stopwords')\n",
        "#nltk.download('punkt')\n",
        "en_stops = set(stopwords.words('english'))\n",
        "\n",
        "rev = open(\"movielens100k.data.txt\")\n",
        "\n",
        "idu = {}\n",
        "idb = {}\n",
        "\n",
        "cpt = 0\n",
        "train_vec = []\n",
        "\n",
        "global_b = 0\n",
        "global_u = 0\n",
        "\n",
        "import pandas as pd\n",
        "\n",
        "for i in rev.readlines():\n",
        "  \n",
        "  user_id, prest_id, stars, x = i.split(\"\\t\")\n",
        "\n",
        "  if idu.get(user_id) == None:\n",
        "    idu[user_id] = global_u\n",
        "    global_u += 1\n",
        "\n",
        "  if idb.get(prest_id) == None:\n",
        "    idb[prest_id] = global_b\n",
        "    global_b += 1\n",
        "  \n",
        "  line = [ idu[user_id], idb[prest_id], stars]\n",
        "  train_vec.append(np.array(line))\n",
        "\n",
        "\n",
        "\n",
        "\n",
        "  \n",
        "  cpt += 1\n",
        "  \t\n",
        "  if cpt%100000 == 0:\n",
        "    print(cpt)\n",
        "  \n",
        "train_vec = np.array(train_vec)\n",
        "rev.close()"
      ],
      "execution_count": null,
      "outputs": [
        {
          "output_type": "stream",
          "text": [
            "100000\n"
          ],
          "name": "stdout"
        }
      ]
    },
    {
      "cell_type": "code",
      "metadata": {
        "id": "zhxelF2Vy2zj"
      },
      "source": [
        "def invert_dic(dic):\n",
        "  idic  = {}\n",
        "  for i in dic:\n",
        "    idic[dic[i]] = i\n",
        "  return idic\n",
        "\n",
        "inv_idu = invert_dic(idu)\n",
        "inv_idb = invert_dic(idb)"
      ],
      "execution_count": null,
      "outputs": []
    },
    {
      "cell_type": "code",
      "metadata": {
        "id": "VREakyvPoHwC"
      },
      "source": [
        "train_vec = pd.DataFrame(train_vec, columns = ['user_id', 'business_id', 'ratings', 'bus_model'])\n",
        "train_vec = pd.DataFrame(train_vec, columns = ['user_id', 'business_id', 'ratings'])\n",
        "#train_vec[['business_id', 'bus_model']]"
      ],
      "execution_count": null,
      "outputs": []
    },
    {
      "cell_type": "code",
      "metadata": {
        "id": "r_mMCJCzYPJb"
      },
      "source": [
        "from sklearn.model_selection import train_test_split\n",
        "\n",
        "users = np.array(train_vec.user_id).astype('int32')\n",
        "business = np.array(train_vec.business_id).astype('int32')\n",
        "ratings = np.array(train_vec.ratings).astype('int32')\n",
        "\n",
        "\n",
        "y_train, y_test, user_train, user_test, bus_train, bus_test = train_test_split(ratings, users, business, test_size=0.2, random_state = 42)"
      ],
      "execution_count": null,
      "outputs": []
    },
    {
      "cell_type": "code",
      "metadata": {
        "id": "lSszuyE0ZQSL",
        "outputId": "8a2150e0-76a7-4cce-cb28-576c19e82d7e",
        "colab": {
          "base_uri": "https://localhost:8080/",
          "height": 250
        }
      },
      "source": [
        "train_vec.head"
      ],
      "execution_count": null,
      "outputs": [
        {
          "output_type": "execute_result",
          "data": {
            "text/plain": [
              "<bound method NDFrame.head of        user_id business_id ratings\n",
              "0            0           0       4\n",
              "1            1           1       4\n",
              "2            2           2       4\n",
              "3            3           3       4\n",
              "4            4           4       1\n",
              "...        ...         ...     ...\n",
              "908613     474       30400       3\n",
              "908614    2150       32402       5\n",
              "908615    3350       29440       3\n",
              "908616    2457       30907       2\n",
              "908617    2627       30176       5\n",
              "\n",
              "[908618 rows x 3 columns]>"
            ]
          },
          "metadata": {
            "tags": []
          },
          "execution_count": 53
        }
      ]
    },
    {
      "cell_type": "code",
      "metadata": {
        "id": "LZ3wQCjyjJhP"
      },
      "source": [
        "embeddings = np.zeros((len(idb) + 1, 150))\n",
        "\n",
        "for i in sorted(idb.values()):\n",
        "  embeddings[i] = doc_model[inv_idb[i]]"
      ],
      "execution_count": null,
      "outputs": []
    },
    {
      "cell_type": "markdown",
      "metadata": {
        "id": "i0DTClkkpUni"
      },
      "source": [
        "#RS Algorithme"
      ]
    },
    {
      "cell_type": "code",
      "metadata": {
        "id": "aC4o4lD6pTrI"
      },
      "source": [
        "import numpy as np\n",
        "import pandas as pd\n",
        "import matplotlib.pyplot as plt\n",
        "import os\n",
        "import warnings\n",
        "import tensorflow as tf\n",
        "import keras\n",
        "\n",
        "from keras.layers import Input, Embedding, Flatten, Dot, Dense, Concatenate, Dropout\n",
        "from keras.models import Model\n",
        "import numpy as np\n",
        "\n",
        "warnings.filterwarnings('ignore')\n",
        "\n",
        "\n",
        "# creating book embedding path\n",
        "item_input = Input(shape=[1], name=\"Item-Input\")\n",
        "#item_embedding = Embedding(len(idb) + 1, 150, name=\"Item-Embedding\", weights = [embeddings], trainable = False)(item_input)\n",
        "item_embedding = Embedding(len(idb) + 1, 150, name=\"Item-Embedding\")(item_input)\n",
        "item_vec = Flatten(name=\"Flatten-Items\")(item_embedding)\n",
        "\n",
        "# creating user embedding path\n",
        "user_input = Input(shape=[1], name=\"User-Input\")\n",
        "user_embedding = Embedding(len(idu) + 1, 150, name=\"User-Embedding\")(user_input)\n",
        "user_vec = Flatten(name=\"Flatten-Users\")(user_embedding)\n",
        "\n",
        "# concatenate features\n",
        "conc = Concatenate()([item_vec, user_vec])\n",
        "\n",
        "# add fully-connected-layers\n",
        "fc1 = Dense(128, activation='relu', kernel_regularizer = keras.regularizers.l2(0.001))(conc)\n",
        "fc2 = Dense(32, activation='relu',  kernel_regularizer = keras.regularizers.l2(0.001))(fc1)\n",
        "out = Dense(1)(fc2)\n",
        "\n",
        "# Create model and compile it\n",
        "model2 = Model([user_input, item_input], out)\n",
        "model2.compile('adam', 'mean_squared_error', metrics = ['mae', tf.keras.metrics.RootMeanSquaredError(name='rmse')])\n",
        "\n",
        "#tf.keras.utils.plot_model(model2, to_file=\"model_rs.png\", show_shapes=False, show_layer_names=True, rankdir=\"TB\", expand_nested=False, dpi=96)\n",
        "\n",
        "\n"
      ],
      "execution_count": null,
      "outputs": []
    },
    {
      "cell_type": "code",
      "metadata": {
        "id": "l-wsIIJPHo2u",
        "outputId": "788c30bb-9fda-448d-ecaa-21b2fa98423a",
        "colab": {
          "base_uri": "https://localhost:8080/",
          "height": 962
        }
      },
      "source": [
        "from sklearn.model_selection import train_test_split\n",
        "\n",
        "users = np.array(train_vec.user_id).astype('int32')\n",
        "business = np.array(train_vec.business_id).astype('int32')\n",
        "ratings = np.array(train_vec.ratings).astype('int32')\n",
        "\n",
        "y_train, y_test, user_train, user_test, bus_train, bus_test = train_test_split(ratings, users, business,test_size=0.2, random_state = 42)\n",
        "\n",
        "history = model2.fit([user_train, bus_train], y_train, epochs=20 , batch_size=10000, verbose = 1,  validation_data=([user_test, bus_test], y_test))\n",
        "#history = model2.fit([user_train, bus_train], y_train, epochs=7, verbose=1 , batch_size=1000, workers=0)\n",
        "#history = model2.fit([users, business], ratings, epochs=5 , batch_size=100, verbose = 1,  validation_split = 0.2)\n",
        "#model2.save('regression_model2.h5')\n",
        "\n",
        "plt.plot(history.history['val_mae'])\n",
        "plt.plot(history.history['mae'])\n",
        "plt.xlabel(\"Epochs\")\n",
        "plt.ylabel(\"Training Error\")"
      ],
      "execution_count": null,
      "outputs": [
        {
          "output_type": "stream",
          "text": [
            "Epoch 1/20\n",
            "73/73 [==============================] - 6s 79ms/step - loss: 5.7188 - mae: 1.8425 - rmse: 2.3437 - val_loss: 1.2979 - val_mae: 0.7990 - val_rmse: 1.0433\n",
            "Epoch 2/20\n",
            "73/73 [==============================] - 6s 77ms/step - loss: 1.1861 - mae: 0.7791 - rmse: 0.9991 - val_loss: 1.1938 - val_mae: 0.7867 - val_rmse: 1.0120\n",
            "Epoch 3/20\n",
            "73/73 [==============================] - 6s 78ms/step - loss: 1.1261 - mae: 0.7676 - rmse: 0.9851 - val_loss: 1.1613 - val_mae: 0.7843 - val_rmse: 1.0094\n",
            "Epoch 4/20\n",
            "73/73 [==============================] - 6s 78ms/step - loss: 1.0926 - mae: 0.7639 - rmse: 0.9804 - val_loss: 1.1380 - val_mae: 0.7834 - val_rmse: 1.0085\n",
            "Epoch 5/20\n",
            "73/73 [==============================] - 6s 78ms/step - loss: 1.0662 - mae: 0.7608 - rmse: 0.9770 - val_loss: 1.1176 - val_mae: 0.7834 - val_rmse: 1.0073\n",
            "Epoch 6/20\n",
            "73/73 [==============================] - 6s 77ms/step - loss: 1.0441 - mae: 0.7585 - rmse: 0.9742 - val_loss: 1.1010 - val_mae: 0.7816 - val_rmse: 1.0066\n",
            "Epoch 7/20\n",
            "73/73 [==============================] - 6s 78ms/step - loss: 1.0261 - mae: 0.7567 - rmse: 0.9720 - val_loss: 1.0853 - val_mae: 0.7822 - val_rmse: 1.0050\n",
            "Epoch 8/20\n",
            "73/73 [==============================] - 6s 77ms/step - loss: 1.0107 - mae: 0.7549 - rmse: 0.9700 - val_loss: 1.0742 - val_mae: 0.7793 - val_rmse: 1.0047\n",
            "Epoch 9/20\n",
            "73/73 [==============================] - 6s 77ms/step - loss: 0.9971 - mae: 0.7533 - rmse: 0.9678 - val_loss: 1.0632 - val_mae: 0.7786 - val_rmse: 1.0035\n",
            "Epoch 10/20\n",
            "73/73 [==============================] - 6s 77ms/step - loss: 0.9858 - mae: 0.7518 - rmse: 0.9661 - val_loss: 1.0550 - val_mae: 0.7787 - val_rmse: 1.0029\n",
            "Epoch 11/20\n",
            "73/73 [==============================] - 6s 77ms/step - loss: 0.9766 - mae: 0.7503 - rmse: 0.9646 - val_loss: 1.0475 - val_mae: 0.7799 - val_rmse: 1.0021\n",
            "Epoch 12/20\n",
            "73/73 [==============================] - 6s 78ms/step - loss: 0.9679 - mae: 0.7490 - rmse: 0.9629 - val_loss: 1.0434 - val_mae: 0.7748 - val_rmse: 1.0025\n",
            "Epoch 13/20\n",
            "73/73 [==============================] - 6s 78ms/step - loss: 0.9605 - mae: 0.7474 - rmse: 0.9613 - val_loss: 1.0387 - val_mae: 0.7734 - val_rmse: 1.0022\n",
            "Epoch 14/20\n",
            "73/73 [==============================] - 6s 77ms/step - loss: 0.9544 - mae: 0.7458 - rmse: 0.9601 - val_loss: 1.0327 - val_mae: 0.7763 - val_rmse: 1.0008\n",
            "Epoch 15/20\n",
            "73/73 [==============================] - 6s 77ms/step - loss: 0.9481 - mae: 0.7445 - rmse: 0.9583 - val_loss: 1.0283 - val_mae: 0.7746 - val_rmse: 0.9998\n",
            "Epoch 16/20\n",
            "73/73 [==============================] - 6s 77ms/step - loss: 0.9409 - mae: 0.7415 - rmse: 0.9555 - val_loss: 1.0260 - val_mae: 0.7771 - val_rmse: 0.9994\n",
            "Epoch 17/20\n",
            "73/73 [==============================] - 6s 77ms/step - loss: 0.9336 - mae: 0.7385 - rmse: 0.9522 - val_loss: 1.0249 - val_mae: 0.7711 - val_rmse: 0.9993\n",
            "Epoch 18/20\n",
            "73/73 [==============================] - 6s 77ms/step - loss: 0.9241 - mae: 0.7342 - rmse: 0.9475 - val_loss: 1.0258 - val_mae: 0.7719 - val_rmse: 1.0001\n",
            "Epoch 19/20\n",
            "73/73 [==============================] - 6s 77ms/step - loss: 0.9148 - mae: 0.7300 - rmse: 0.9429 - val_loss: 1.0278 - val_mae: 0.7738 - val_rmse: 1.0014\n",
            "Epoch 20/20\n",
            "73/73 [==============================] - 6s 78ms/step - loss: 0.9070 - mae: 0.7267 - rmse: 0.9391 - val_loss: 1.0301 - val_mae: 0.7798 - val_rmse: 1.0030\n"
          ],
          "name": "stdout"
        },
        {
          "output_type": "execute_result",
          "data": {
            "text/plain": [
              "Text(0, 0.5, 'Training Error')"
            ]
          },
          "metadata": {
            "tags": []
          },
          "execution_count": 15
        },
        {
          "output_type": "display_data",
          "data": {
            "image/png": "[encoded data removed]",
            "text/plain": [
              "<Figure size 432x288 with 1 Axes>"
            ]
          },
          "metadata": {
            "tags": [],
            "needs_background": "light"
          }
        }
      ]
    },
    {
      "cell_type": "code",
      "metadata": {
        "id": "K75w8_xjWnLv"
      },
      "source": [
        "model2.save(\"FC_RN_AS.h5\")"
      ],
      "execution_count": null,
      "outputs": []
    },
    {
      "cell_type": "code",
      "metadata": {
        "id": "gNWdHNbxfe8c"
      },
      "source": [
        "from tensorflow import keras\n",
        "mdl = keras.models.load_model('FC_RN_AS.h5')"
      ],
      "execution_count": null,
      "outputs": []
    },
    {
      "cell_type": "code",
      "metadata": {
        "id": "Ptwbhd3Lfvyq"
      },
      "source": [
        "ratings = model2([user_test, bus_test]).numpy()\n",
        "\n",
        "out = open('fc_rn_res.txt', 'w')\n",
        "\n",
        "for user, bus, rating in zip(user_test, bus_test, ratings):\n",
        "\n",
        "  line = \" \".join([inv_idu[user], inv_idb[bus] , str(rating[0])  ])\n",
        "  out.write(line + \"\\n\")\n",
        "\n",
        "out.close()\n"
      ],
      "execution_count": null,
      "outputs": []
    },
    {
      "cell_type": "code",
      "metadata": {
        "id": "pC9vygzybXBq",
        "outputId": "bf03bd41-7acb-4b0e-aec3-16997b34fc8e",
        "colab": {
          "base_uri": "https://localhost:8080/",
          "height": 35
        }
      },
      "source": [
        "inv_idu[user_test[0]]\n"
      ],
      "execution_count": null,
      "outputs": [
        {
          "output_type": "execute_result",
          "data": {
            "application/vnd.google.colaboratory.intrinsic+json": {
              "type": "string"
            },
            "text/plain": [
              "'MuLPdU0GYhdGWV71PTJW-Q'"
            ]
          },
          "metadata": {
            "tags": []
          },
          "execution_count": 99
        }
      ]
    },
    {
      "cell_type": "markdown",
      "metadata": {
        "id": "pSLt9NhkprmJ"
      },
      "source": [
        "#Run algorithme"
      ]
    },
    {
      "cell_type": "code",
      "metadata": {
        "id": "REOECU1mRTSJ",
        "outputId": "8814879a-ab86-47d2-ead1-971d29025bb3",
        "colab": {
          "base_uri": "https://localhost:8080/",
          "height": 51
        }
      },
      "source": [
        "print(len(idb))\n",
        "print(len(train_vec.ratings))"
      ],
      "execution_count": null,
      "outputs": [
        {
          "output_type": "stream",
          "text": [
            "32620\n",
            "908618\n"
          ],
          "name": "stdout"
        }
      ]
    }
  ]
}