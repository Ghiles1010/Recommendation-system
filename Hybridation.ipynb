{
  "nbformat": 4,
  "nbformat_minor": 0,
  "metadata": {
    "colab": {
      "name": "Hybridation.ipynb",
      "provenance": [],
      "authorship_tag": "ABX9TyMW5ua2D1OUhAx4qzbhEXsT",
      "include_colab_link": true
    },
    "kernelspec": {
      "name": "python3",
      "display_name": "Python 3"
    }
  },
  "cells": [
    {
      "cell_type": "markdown",
      "metadata": {
        "id": "view-in-github",
        "colab_type": "text"
      },
      "source": [
        "<a href=\"https://colab.research.google.com/github/Ghiles1010/Recommendation-system/blob/master/Hybridation.ipynb\" target=\"_parent\"><img src=\"https://colab.research.google.com/assets/colab-badge.svg\" alt=\"Open In Colab\"/></a>"
      ]
    },
    {
      "cell_type": "code",
      "metadata": {
        "id": "4Has5i3ImLOu",
        "outputId": "6a6294f0-8d0f-4a3c-9cc1-ab5d52304090",
        "colab": {
          "base_uri": "https://localhost:8080/",
          "height": 126
        }
      },
      "source": [
        "import os\n",
        "from google.colab import drive\n",
        "drive.mount('/content/drive')\n",
        "os.chdir(\"/content/drive/My Drive/PFE STUFF/Yelp_DB\")"
      ],
      "execution_count": null,
      "outputs": [
        {
          "output_type": "stream",
          "text": [
            "Go to this URL in a browser: https://accounts.google.com/o/oauth2/auth?client_id=947318989803-6bn6qk8qdgf4n4g3pfee6491hc0brc4i.apps.googleusercontent.com&redirect_uri=urn%3aietf%3awg%3aoauth%3a2.0%3aoob&response_type=code&scope=email%20https%3a%2f%2fwww.googleapis.com%2fauth%2fdocs.test%20https%3a%2f%2fwww.googleapis.com%2fauth%2fdrive%20https%3a%2f%2fwww.googleapis.com%2fauth%2fdrive.photos.readonly%20https%3a%2f%2fwww.googleapis.com%2fauth%2fpeopleapi.readonly\n",
            "\n",
            "Enter your authorization code:\n",
            "··········\n",
            "Mounted at /content/drive\n"
          ],
          "name": "stdout"
        }
      ]
    },
    {
      "cell_type": "code",
      "metadata": {
        "id": "lnMjYShPmn-b"
      },
      "source": [
        "file_r = open(\"Review_Yelp.json\")\n",
        "l_r = file_r.readlines()\n",
        "file_r.close()\n",
        "\n",
        "file_s = open(\"results_sem.txt\")\n",
        "l_s = file_s.readlines()\n",
        "file_s.close()\n",
        "\n",
        "file_p = open(\"pmf.txt\")\n",
        "l_p = file_p.readlines()\n",
        "file_p.close()"
      ],
      "execution_count": null,
      "outputs": []
    },
    {
      "cell_type": "code",
      "metadata": {
        "id": "B003Bq2Xs9jS"
      },
      "source": [
        "import json\n",
        "\n",
        "true = {}\n",
        "for i in l_r:\n",
        "\n",
        "  rv = json.loads(i)\n",
        "  id_u = rv[\"user_id\"]\n",
        "  id_b = rv[\"business_id\"]\n",
        "\n",
        "  true[frozenset((id_u, id_b))] = float(rv[\"stars\"])\n",
        "\n",
        "sem = {}\n",
        "for i in l_s:\n",
        "\n",
        "  rv = i.replace(\"\\n\",\"\").split()\n",
        "  sem[frozenset((rv[0], rv[1]))] = float(rv[2])\n",
        "\n",
        "pmf = {}\n",
        "for i in l_p:\n",
        "\n",
        "  rv = i.replace(\"\\n\",\"\").split(\",\")\n",
        "  pmf[frozenset((rv[0], rv[1]))] = float(rv[2])\n",
        "\n"
      ],
      "execution_count": null,
      "outputs": []
    },
    {
      "cell_type": "code",
      "metadata": {
        "id": "gBBm9_1B1lEd"
      },
      "source": [
        "y_pmf = []\n",
        "y_sem = []\n",
        "y_true = []\n",
        "\n",
        "for i in pmf:\n",
        "\n",
        "  y_pmf.append(pmf[i])\n",
        "  y_sem.append(sem[i])\n",
        "  y_true.append(true[i])\n"
      ],
      "execution_count": null,
      "outputs": []
    },
    {
      "cell_type": "code",
      "metadata": {
        "id": "QBUtkoBx9YcY"
      },
      "source": [
        "def hybridation(alpha):\n",
        "\n",
        "  y_pred = []\n",
        "  for j in range(len(y_pmf)):\n",
        "\n",
        "    pred = alpha * y_sem[j] + (1-alpha) * y_pmf[j]\n",
        "    y_pred.append(pred)\n",
        "\n",
        "  print(\"alpha = \",alpha)\n",
        "  print(\"mae = \", mean_absolute_error(y_true, y_pred))\n",
        "  print(\"rmse = \", mean_squared_error(y_true, y_pred))\n",
        "  print(\"\\n\")\n",
        "\n",
        "\n",
        "\n"
      ],
      "execution_count": null,
      "outputs": []
    },
    {
      "cell_type": "code",
      "metadata": {
        "id": "6FGAopOm7G0p"
      },
      "source": [
        "import numpy\n",
        "from sklearn.metrics import mean_absolute_error, mean_squared_error\n",
        "\n",
        "for i in numpy.arange(0.1,1,0.05):\n",
        "\n",
        "  hybridation(i)\n",
        "\n"
      ],
      "execution_count": null,
      "outputs": []
    },
    {
      "cell_type": "code",
      "metadata": {
        "id": "AlkjhK0VDC1q"
      },
      "source": [
        "for i in range(0.05, 0.95, 0.05):\n",
        "  alpha = i\n",
        "  for j in range(alpha, 0.95, 0.05):\n",
        "    beta = j\n",
        "    for k in range()\n"
      ],
      "execution_count": null,
      "outputs": []
    }
  ]
}