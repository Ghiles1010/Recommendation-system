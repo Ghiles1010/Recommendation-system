{
  "nbformat": 4,
  "nbformat_minor": 0,
  "metadata": {
    "colab": {
      "name": "PMF.ipynb",
      "provenance": [],
      "include_colab_link": true
    },
    "kernelspec": {
      "name": "python3",
      "display_name": "Python 3"
    }
  },
  "cells": [
    {
      "cell_type": "markdown",
      "metadata": {
        "id": "view-in-github",
        "colab_type": "text"
      },
      "source": [
        "<a href=\"https://colab.research.google.com/github/Ghiles1010/Recommendation-system/blob/master/PMF.ipynb\" target=\"_parent\"><img src=\"https://colab.research.google.com/assets/colab-badge.svg\" alt=\"Open In Colab\"/></a>"
      ]
    },
    {
      "cell_type": "code",
      "metadata": {
        "id": "xyLcNrmrq8Zd",
        "outputId": "b6e373ea-55a9-4f9e-d211-d0061ccef45f",
        "colab": {
          "base_uri": "https://localhost:8080/",
          "height": 33
        }
      },
      "source": [
        "from google.colab import drive\n",
        "import os\n",
        "drive.mount('/content/drive')\n",
        "os.chdir(\"/content/drive/My Drive/PFE STUFF\")"
      ],
      "execution_count": 8,
      "outputs": [
        {
          "output_type": "stream",
          "text": [
            "Drive already mounted at /content/drive; to attempt to forcibly remount, call drive.mount(\"/content/drive\", force_remount=True).\n"
          ],
          "name": "stdout"
        }
      ]
    },
    {
      "cell_type": "code",
      "metadata": {
        "id": "fpuq8ojVCMmK",
        "outputId": "a804f0c2-f27e-4b45-af6e-f1711a6d5cd2",
        "colab": {
          "base_uri": "https://localhost:8080/",
          "height": 1000
        }
      },
      "source": [
        "!java -jar PMF.jar\n"
      ],
      "execution_count": null,
      "outputs": [
        {
          "output_type": "stream",
          "text": [
            "rec.factor.number = 150\n",
            "rec.iterator.learnrate = 0.005\n",
            "data.convertor.format = text\n",
            "data.splitter.cv.number = 5\n",
            "rec.item.regularization = 0.08\n",
            "rec.learnrate.decay = 1.0\n",
            "rec.filter.class = net.librec.filter.GenericRecommendedFilter\n",
            "dfs.result.dir = result\n",
            "data.colum.format = UIR\n",
            "rec.recommender.class = pmf\n",
            "ratio.data.splitter = ratingratio\n",
            "data.input.path = Review_Yelp_Friends_50.txt\n",
            "rec.eval.enable = true\n",
            "rec.eval.class = net.librec.eval.rating.MAEEvaluator\n",
            "rec.recommender.isranking = false\n",
            "dfs.data.dir = data/\n",
            "data.model.format = textmodel\n",
            "rec.iterator.maximum = 20\n",
            "rec.learnrate.bolddriver = false\n",
            "rec.user.regularization = 0.08\n",
            "rec.eval.auc.dropped.num = 10\n",
            "data.model.splitter = ratio\n",
            "dfs.log.dir = data/log\n",
            "rec.iterator.learnrate.maximum = 0.01\n",
            "0 [main] INFO net.librec.data.convertor.TextDataConvertor  - Dataset: data//Review_Yelp_Friends_50.txt\n",
            "20 [main] INFO net.librec.data.convertor.TextDataConvertor  - All dataset files [data/Review_Yelp_Friends_50.txt]\n",
            "21 [main] INFO net.librec.data.convertor.TextDataConvertor  - All dataset files size 19618656\n",
            "21 [main] INFO net.librec.data.convertor.TextDataConvertor  - Now loading dataset file Review_Yelp_Friends_50\n",
            "5822 [main] INFO net.librec.data.model.TextDataModel  - Transform data to Convertor successfully!\n",
            "6220 [main] INFO net.librec.data.model.TextDataModel  - Split data to train Set and test Set successfully!\n",
            "6223 [main] INFO net.librec.data.model.TextDataModel  - Data size of training is 327299\n",
            "6224 [main] INFO net.librec.data.model.TextDataModel  - Data size of testing is 81423\n",
            "\n",
            "\n",
            "\n",
            " HERE \n",
            "\n",
            "\n",
            "6680 [main] INFO net.librec.recommender.cf.rating.PMF  - Job Setup completed.\n",
            "19839 [main] INFO net.librec.recommender.cf.rating.PMF  - PMF iter 1: loss = 2611458.7853303105, delta_loss = -2611458.8\n",
            "26300 [main] INFO net.librec.recommender.cf.rating.PMF  - PMF iter 2: loss = 2445820.3632953446, delta_loss = 165638.42\n",
            "32551 [main] INFO net.librec.recommender.cf.rating.PMF  - PMF iter 3: loss = 1905963.5226278962, delta_loss = 539856.8\n",
            "38670 [main] INFO net.librec.recommender.cf.rating.PMF  - PMF iter 4: loss = 1206940.1926658128, delta_loss = 699023.3\n",
            "44687 [main] INFO net.librec.recommender.cf.rating.PMF  - PMF iter 5: loss = 798628.7239490671, delta_loss = 408311.47\n",
            "50724 [main] INFO net.librec.recommender.cf.rating.PMF  - PMF iter 6: loss = 618917.3459592198, delta_loss = 179711.38\n",
            "56762 [main] INFO net.librec.recommender.cf.rating.PMF  - PMF iter 7: loss = 540145.3392834, delta_loss = 78772.01\n",
            "62768 [main] INFO net.librec.recommender.cf.rating.PMF  - PMF iter 8: loss = 503702.17170036654, delta_loss = 36443.168\n",
            "68788 [main] INFO net.librec.recommender.cf.rating.PMF  - PMF iter 9: loss = 484979.1043843278, delta_loss = 18723.066\n",
            "74798 [main] INFO net.librec.recommender.cf.rating.PMF  - PMF iter 10: loss = 473521.83933229797, delta_loss = 11457.265\n",
            "80815 [main] INFO net.librec.recommender.cf.rating.PMF  - PMF iter 11: loss = 465174.46437399497, delta_loss = 8347.375\n",
            "86847 [main] INFO net.librec.recommender.cf.rating.PMF  - PMF iter 12: loss = 458312.4459595531, delta_loss = 6862.0186\n",
            "92855 [main] INFO net.librec.recommender.cf.rating.PMF  - PMF iter 13: loss = 452286.4785959743, delta_loss = 6025.9673\n",
            "98882 [main] INFO net.librec.recommender.cf.rating.PMF  - PMF iter 14: loss = 446826.7805306451, delta_loss = 5459.698\n",
            "104926 [main] INFO net.librec.recommender.cf.rating.PMF  - PMF iter 15: loss = 441812.2991102527, delta_loss = 5014.4814\n",
            "111019 [main] INFO net.librec.recommender.cf.rating.PMF  - PMF iter 16: loss = 437180.2156336848, delta_loss = 4632.0835\n",
            "117080 [main] INFO net.librec.recommender.cf.rating.PMF  - PMF iter 17: loss = 432890.77509440866, delta_loss = 4289.4404\n",
            "123106 [main] INFO net.librec.recommender.cf.rating.PMF  - PMF iter 18: loss = 428913.79854245344, delta_loss = 3976.9766\n",
            "129132 [main] INFO net.librec.recommender.cf.rating.PMF  - PMF iter 19: loss = 425223.55253497075, delta_loss = 3690.246\n",
            "135148 [main] INFO net.librec.recommender.cf.rating.PMF  - PMF iter 20: loss = 421796.80316366185, delta_loss = 3426.7493\n",
            "135148 [main] INFO net.librec.recommender.cf.rating.PMF  - Job Train completed.\n",
            "135220 [main] INFO net.librec.recommender.cf.rating.PMF  - Job End.\n",
            "MAE:0.9198496808864215\n",
            "RMSE:1.2325090259823295\n",
            "135327 [main] INFO net.librec.data.convertor.TextDataConvertor  - Dataset: data//Review_Yelp_Friends_50.txt\n",
            "135328 [main] INFO net.librec.data.convertor.TextDataConvertor  - All dataset files [data/Review_Yelp_Friends_50.txt]\n",
            "135328 [main] INFO net.librec.data.convertor.TextDataConvertor  - All dataset files size 19618656\n",
            "135328 [main] INFO net.librec.data.convertor.TextDataConvertor  - Now loading dataset file Review_Yelp_Friends_50\n",
            "138104 [main] INFO net.librec.data.model.TextDataModel  - Transform data to Convertor successfully!\n",
            "138310 [main] INFO net.librec.data.model.TextDataModel  - Split data to train Set and test Set successfully!\n",
            "138316 [main] INFO net.librec.data.model.TextDataModel  - Data size of training is 327068\n",
            "138317 [main] INFO net.librec.data.model.TextDataModel  - Data size of testing is 81654\n",
            "138318 [main] INFO net.librec.job.RecommenderJob  - Result path is result/Review_Yelp_Friends_50.txt-pmf-output/pmf\n"
          ],
          "name": "stdout"
        }
      ]
    }
  ]
}