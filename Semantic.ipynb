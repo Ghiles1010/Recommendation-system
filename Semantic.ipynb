{
  "nbformat": 4,
  "nbformat_minor": 0,
  "metadata": {
    "colab": {
      "name": "Semantic.ipynb",
      "provenance": [],
      "collapsed_sections": [],
      "toc_visible": true,
      "authorship_tag": "ABX9TyOHs5/UZAagx4sQBBIoK88M",
      "include_colab_link": true
    },
    "kernelspec": {
      "name": "python3",
      "display_name": "Python 3"
    }
  },
  "cells": [
    {
      "cell_type": "markdown",
      "metadata": {
        "id": "view-in-github",
        "colab_type": "text"
      },
      "source": [
        "<a href=\"https://colab.research.google.com/github/Ghiles1010/Recommendation-system/blob/master/Semantic.ipynb\" target=\"_parent\"><img src=\"https://colab.research.google.com/assets/colab-badge.svg\" alt=\"Open In Colab\"/></a>"
      ]
    },
    {
      "cell_type": "code",
      "metadata": {
        "id": "uT_XmJs2E_7o",
        "outputId": "73858efa-0744-4a2d-da06-9acbf5c1b35e",
        "colab": {
          "base_uri": "https://localhost:8080/",
          "height": 292
        }
      },
      "source": [
        "!pip install owlready2\n",
        "from owlready2 import *\n",
        "import json\n",
        "import os\n",
        "import re\n",
        "\n",
        "from google.colab import drive\n",
        "drive.mount('/content/drive')\n",
        "os.chdir(\"/content/drive/My Drive/PFE STUFF/Yelp_DB\")"
      ],
      "execution_count": null,
      "outputs": [
        {
          "output_type": "stream",
          "text": [
            "Collecting owlready2\n",
            "\u001b[?25l  Downloading https://files.pythonhosted.org/packages/af/1c/7e4c25d5539ac8979d633afe03d16ddb01716c6cde97ebea33a6659ea9c6/Owlready2-0.24.tar.gz (20.8MB)\n",
            "\u001b[K     |████████████████████████████████| 20.8MB 1.4MB/s \n",
            "\u001b[?25hBuilding wheels for collected packages: owlready2\n",
            "  Building wheel for owlready2 (setup.py) ... \u001b[?25l\u001b[?25hdone\n",
            "  Created wheel for owlready2: filename=Owlready2-0.24-cp36-cp36m-linux_x86_64.whl size=20263016 sha256=9577de60049cfc807a48fbbdff27e2151128722614e15f0debcffe3f41202d05\n",
            "  Stored in directory: /root/.cache/pip/wheels/66/87/0b/7a97bd19c9dc817b279aadb5dd920ce3a77050e2ab5a413f43\n",
            "Successfully built owlready2\n",
            "Installing collected packages: owlready2\n",
            "Successfully installed owlready2-0.24\n",
            "Go to this URL in a browser: https://accounts.google.com/o/oauth2/auth?client_id=947318989803-6bn6qk8qdgf4n4g3pfee6491hc0brc4i.apps.googleusercontent.com&redirect_uri=urn%3aietf%3awg%3aoauth%3a2.0%3aoob&scope=email%20https%3a%2f%2fwww.googleapis.com%2fauth%2fdocs.test%20https%3a%2f%2fwww.googleapis.com%2fauth%2fdrive%20https%3a%2f%2fwww.googleapis.com%2fauth%2fdrive.photos.readonly%20https%3a%2f%2fwww.googleapis.com%2fauth%2fpeopleapi.readonly&response_type=code\n",
            "\n",
            "Enter your authorization code:\n",
            "··········\n",
            "Mounted at /content/drive\n"
          ],
          "name": "stdout"
        }
      ]
    },
    {
      "cell_type": "code",
      "metadata": {
        "id": "7AEBWMongMKp"
      },
      "source": [
        "file_u = open(\"Users_cat_Yelp.json\")\n",
        "l_u = file_u.readlines()\n",
        "file_u.close()\n",
        "\n",
        "f_b = open(\"Business_Yelp.json\")\n",
        "l_b = f_b.readlines()\n",
        "f_b.close()\n",
        "\n",
        "users = {}\n",
        "for i in l_u:\n",
        "  js = json.loads(i)\n",
        "  users[js[\"user_id\"]] = js\n",
        "\n",
        "prests = {}\n",
        "for i in l_b:\n",
        "  js = json.loads(i)\n",
        "  prests[js[\"business_id\"]] = js"
      ],
      "execution_count": null,
      "outputs": []
    },
    {
      "cell_type": "code",
      "metadata": {
        "id": "y96Y977oFrgg"
      },
      "source": [
        "dist = {} #we save distances to not recalculate them\n",
        "def wp_sim(c1, c2):\n",
        "\n",
        "\tif ( dist.get( frozenset( (c1, c2) ) ) != None ):\n",
        "\n",
        "\t\treturn dist[frozenset( (c1, c2) ) ]\n",
        "\n",
        "\telse:\n",
        "\t\tanc1=c1.ancestors()\n",
        "\t\tanc2=c2.ancestors()\n",
        "\t\t\n",
        "\t\tcpt=0\n",
        "\t\t\n",
        "\t\tif(c1!=c2):\n",
        "\t\t\tfor i in anc1:\n",
        "\t\t\t\tif i in anc2:\n",
        "\t\t\t\t\tcpt=cpt+1\n",
        "\n",
        "\t\telse:\n",
        "\t\t\treturn 1\n",
        "\n",
        "\t\tN=cpt-1\t\n",
        "\t\tN1=len(anc1)-1\n",
        "\t\tN2=len(anc2)-1\n",
        "\t\t\n",
        "\n",
        "\t\tr=((2*N)/(N1+N2))\n",
        "\t\tdist[frozenset((c1, c2))] = r\n",
        "\t\treturn r\n",
        "\n",
        "def onto_class(c, onto): #returns the owlready2 class\n",
        "\tif(isinstance(c, owlready2.entity.ThingClass)):\n",
        "\t\treturn c\n",
        "\telse:\n",
        "\t\t#print(str(c)[50:-1])\n",
        "\t\t#s = re.match(\"(.+?\\()(.+?\\.)(.+[A-Za-z_])\",str(c))\n",
        "\t\ts = str(c)[50:-1]\n",
        "\t\treturn onto[s]\n",
        "\t\n",
        "\n",
        "def interest(u, v):\n",
        "\n",
        "\tinterest=0\n",
        "\tcpt=0\n",
        "\n",
        "\t#print(u.is_a)\t\n",
        "\t#print(v.is_a)\n",
        "\t\n",
        "\tfor cat in v.is_a:\n",
        "\t\tif isinstance(onto_class(cat, onto), onto[\"Category\"]):\n",
        "\n",
        "\t\t\tselected = \"\"\n",
        "\t\t\tmax = 0\n",
        "\n",
        "\t\t\tfor cat2 in u.is_a:\n",
        "\t\t\t\tif isinstance(onto_class(cat2, onto), onto[\"Category\"]):\n",
        "\t\t\t\t\t\n",
        "\t\t\t\t\tsim = wp_sim(onto_class(cat, onto), onto_class(cat2, onto))\n",
        "\n",
        "\t\t\t\t\tif sim > max:\n",
        "\n",
        "\t\t\t\t\t\tmax = sim\n",
        "\t\t\t\t\t\tselected = str(cat2)[50:-1]\n",
        "\t\t\t\n",
        "\t\t\tif max == 0:\n",
        "\t\t\t\tprint(\"error\", u.is_a, u.name, v.is_a, v.name)\n",
        "\t\t\telse:\n",
        "\t\t\t\t\n",
        "\t\t\t\tweight = users[u.name][\"categories\"][selected]\n",
        "\t\t\t\tinterest += max * weight\n",
        "\t\t\t\tcpt += weight\n",
        "\n",
        "\n",
        "\t#print(interest)\n",
        "\t#print(cpt)\n",
        "\t\n",
        "\treturn interest/cpt\n"
      ],
      "execution_count": null,
      "outputs": []
    },
    {
      "cell_type": "code",
      "metadata": {
        "id": "u9Ma_1PeFl6z"
      },
      "source": [
        "onto = get_ontology(\"Ontology_filled.owl\").load()"
      ],
      "execution_count": null,
      "outputs": []
    },
    {
      "cell_type": "code",
      "metadata": {
        "id": "qCXetyW_HoEU",
        "outputId": "77eb2075-97bf-41a0-85f2-60bc01b3a1a0",
        "colab": {
          "base_uri": "https://localhost:8080/",
          "height": 52
        }
      },
      "source": [
        "print(onto[\"Sandwiches\"])\n",
        "print(onto[\"Themed_Cafes\"])"
      ],
      "execution_count": null,
      "outputs": [
        {
          "output_type": "stream",
          "text": [
            "Ontology_filled.Sandwiches\n",
            "Ontology_filled.Themed_Cafes\n"
          ],
          "name": "stdout"
        }
      ]
    },
    {
      "cell_type": "code",
      "metadata": {
        "id": "mvT01nm-1nPu",
        "outputId": "a8096bcf-11d5-476b-d334-c289da7bc46f",
        "colab": {
          "base_uri": "https://localhost:8080/",
          "height": 34
        }
      },
      "source": [
        "import json\n",
        "from math import *\n",
        "\n",
        "file_r  = open(\"Review_Yelp.json\")\n",
        "l_r = file_r.readlines()\n",
        "file_r.close()\n",
        "\n",
        "print(\"loaded\")\n",
        "\n",
        "cpt = 0\n",
        "results = []\n",
        "inter = []\n",
        "y_true = []\n",
        "y_pred = []\n",
        "\n",
        "for i in range(100):\n",
        "\n",
        "  rv = json.loads(l_r[i])\n",
        "\n",
        "  id_u = rv[\"user_id\"]\n",
        "  id_b = rv[\"business_id\"]\n",
        "\n",
        "  client = onto.Client(id_u)\n",
        "  prest = onto.Service(id_b)\n",
        "\n",
        "  interested = interest(client, prest)\n",
        "\n",
        "  if interested > 1:\n",
        "    print(\"error\")\n",
        "  prediction = interested * prests[id_b][\"stars\"]\n",
        "\n",
        "  y_true.append(rv[\"stars\"])\n",
        "  y_pred.append( prediction )\n",
        "\n",
        "  inter.append( (id_u, id_b, interested) )\n",
        "  results.append(  (id_u, id_b, prediction) )\n",
        "\n",
        "  cpt+=1\n",
        "\n",
        "  if (cpt%1000)==0:\n",
        "    print(\"cpt = \", cpt)  \n"
      ],
      "execution_count": null,
      "outputs": [
        {
          "output_type": "stream",
          "text": [
            "loaded\n"
          ],
          "name": "stdout"
        }
      ]
    },
    {
      "cell_type": "code",
      "metadata": {
        "id": "maMgeZiSOLbv",
        "outputId": "8b822864-374a-48af-f84f-2e96b814d5bd",
        "colab": {
          "base_uri": "https://localhost:8080/",
          "height": 51
        }
      },
      "source": [
        "from sklearn.metrics import mean_absolute_error, mean_squared_error\n",
        "print(\"mae = \", mean_absolute_error(y_true, y_pred))\n",
        "print(\"rmse = \", sqrt(mean_squared_error(y_true, y_pred)))"
      ],
      "execution_count": null,
      "outputs": [
        {
          "output_type": "stream",
          "text": [
            "mae =  0.82\n",
            "rmse =  1.0723805294763609\n"
          ],
          "name": "stdout"
        }
      ]
    },
    {
      "cell_type": "markdown",
      "metadata": {
        "id": "oZWZ8pP6Fwc2"
      },
      "source": [
        ""
      ]
    },
    {
      "cell_type": "code",
      "metadata": {
        "id": "KmwlV_QLTGiC"
      },
      "source": [
        "o = open(\"results_sem.txt\",'w')\n",
        "\n",
        "for i in results:\n",
        "  o.write(i[0]+\" \"+i[1]+\" \"+str(i[2])+\"\\n\")\n",
        "o.close()"
      ],
      "execution_count": null,
      "outputs": []
    },
    {
      "cell_type": "code",
      "metadata": {
        "id": "bJ25-8ddKEyz"
      },
      "source": [
        "o = open(\"interest.txt\",'w')\n",
        "\n",
        "for i in inter:\n",
        "  o.write(i[0]+\" \"+i[1]+\" \"+str(i[2])+\"\\n\")\n",
        "o.close()"
      ],
      "execution_count": null,
      "outputs": []
    },
    {
      "cell_type": "code",
      "metadata": {
        "id": "4hcb26FhWq0I"
      },
      "source": [
        "o = open(\"interest.txt\")\n",
        "\n",
        "l_o = o.readlines()\n",
        "\n",
        "for i in l_o:\n",
        "  \n",
        "  t = float(i.split()[2])\n",
        "\n",
        "\n",
        "  if t != 1.0:\n",
        "    print(t)\n",
        "o.close()"
      ],
      "execution_count": null,
      "outputs": []
    },
    {
      "cell_type": "markdown",
      "metadata": {
        "id": "wvQq5YMEcrXc"
      },
      "source": [
        "#Semantic with user-user\n"
      ]
    },
    {
      "cell_type": "code",
      "metadata": {
        "id": "ATH4sFEhcqyJ"
      },
      "source": [
        "import numpy as np\n",
        "import pandas as pd\n",
        "\n",
        "file_r  = open(\"Review_Yelp.json\")\n",
        "l_r = file_r.readlines()\n",
        "file_r.close()\n",
        "\n",
        "ratings = []\n",
        "\n",
        "n_users = {}\n",
        "n_bus = {}\n",
        "\n",
        "np.zeros\n",
        "\n",
        "for i in l_r:\n",
        "\n",
        "  rv = json.loads(i)\n",
        "\n",
        "  idu = rv[\"user_id\"]\n",
        "  idb = rv[\"business_id\"]\n",
        "  stars = rv[\"stars\"]\n",
        "\n",
        "  n_users[idu] = n_users.get(idu, 0) + 1\n",
        "  n_bus[idb] = n_bus.get(idb, 0) + 1\n",
        "\n",
        "\n",
        "  ratings.append(  [idu, idb, stars] )\n",
        "\n"
      ],
      "execution_count": null,
      "outputs": []
    },
    {
      "cell_type": "code",
      "metadata": {
        "id": "bJ7B9K16j5Yg"
      },
      "source": [
        "height = len(n_users)\n",
        "width = len(n_bus)\n",
        "matrix = np.zeros(shape=(height, width))\n",
        "matrix = pd.DataFrame(matrix, columns = list(n_bus.keys()), index = list(n_users.keys()))\n",
        "\n",
        "for i in ratings:\n",
        "\n",
        "  matrix.loc[i[0], i[1]] = i[2]"
      ],
      "execution_count": null,
      "outputs": []
    },
    {
      "cell_type": "code",
      "metadata": {
        "id": "gYs1UehQwPEY"
      },
      "source": [
        "from sklearn.metrics import jaccard_score\n",
        "\n",
        "def sim_user_user(user1, user2):\n",
        "\n",
        "  user1 = np.array(matrix.loc[user1,:])\n",
        "  user2 = np.array(matrix.loc[user2,:])\n",
        "\n",
        "  user1 = [ 1 if i>0 else 0 for i in user1]\n",
        "  user2 = [ 1 if i>0 else 0 for i in user2]\n",
        "\n",
        "  return jaccard_score(user1, user2)"
      ],
      "execution_count": null,
      "outputs": []
    },
    {
      "cell_type": "code",
      "metadata": {
        "id": "_7vY5LGy0Yr3"
      },
      "source": [
        "dic_user_user = {}\n",
        "\n",
        "i = 0\n",
        "cpt = i\n",
        "print(height)\n",
        "while i < height:\n",
        "  j = i\n",
        "  while j < height:\n",
        "    user1 = matrix.index[i]\n",
        "    user2 = matrix.index[j]\n",
        "    dist = sim_user_user(user1, user2)\n",
        "    s = frozenset((user1, user2))\n",
        "    dic_user_user[s] = dist\n",
        "  \n",
        "  j += 1\n",
        "  cpt += height\n",
        "  print(cpt)\n",
        "i += 1"
      ],
      "execution_count": null,
      "outputs": []
    },
    {
      "cell_type": "code",
      "metadata": {
        "id": "3hgc3zhGWONH",
        "outputId": "5f06cad8-e216-4991-e0ae-418211ffadab",
        "colab": {
          "base_uri": "https://localhost:8080/",
          "height": 163
        }
      },
      "source": [
        "print(i)"
      ],
      "execution_count": null,
      "outputs": [
        {
          "output_type": "error",
          "ename": "NameError",
          "evalue": "ignored",
          "traceback": [
            "\u001b[0;31m---------------------------------------------------------------------------\u001b[0m",
            "\u001b[0;31mNameError\u001b[0m                                 Traceback (most recent call last)",
            "\u001b[0;32m<ipython-input-1-3b184248ad5a>\u001b[0m in \u001b[0;36m<module>\u001b[0;34m()\u001b[0m\n\u001b[0;32m----> 1\u001b[0;31m \u001b[0mprint\u001b[0m\u001b[0;34m(\u001b[0m\u001b[0mi\u001b[0m\u001b[0;34m)\u001b[0m\u001b[0;34m\u001b[0m\u001b[0;34m\u001b[0m\u001b[0m\n\u001b[0m",
            "\u001b[0;31mNameError\u001b[0m: name 'i' is not defined"
          ]
        }
      ]
    },
    {
      "cell_type": "code",
      "metadata": {
        "id": "BTpYgnCh-T2H"
      },
      "source": [
        "def note(user1, users, business):\n",
        "\n",
        "  weights = 0\n",
        "  somme = 0\n",
        "  for user in users.index:\n",
        "\n",
        "    if user != user1:\n",
        "      w = sim_user_user(user1, user)\n",
        "      somme += w * users.loc[user,business]\n",
        "      weights += w\n",
        "  \n",
        "  if weights != 0:\n",
        "    return somme/weights\n",
        "  \n",
        "  else:\n",
        "    return matrix.loc[user1,business]\n"
      ],
      "execution_count": null,
      "outputs": []
    },
    {
      "cell_type": "code",
      "metadata": {
        "id": "w730sash6xjy",
        "outputId": "bbaff8fd-412e-4af4-b833-d4018d1d0158",
        "colab": {
          "base_uri": "https://localhost:8080/",
          "height": 1000
        }
      },
      "source": [
        "import json\n",
        "from math import *\n",
        "\n",
        "file_r  = open(\"Review_Yelp.json\")\n",
        "l_r = file_r.readlines()\n",
        "file_r.close()\n",
        "\n",
        "print(\"loaded\")\n",
        "\n",
        "cpt = 0\n",
        "results = []\n",
        "inter = []\n",
        "y_true = []\n",
        "y_pred = []\n",
        "\n",
        "for i in range(100000):\n",
        "\n",
        "  rv = json.loads(l_r[i])\n",
        "\n",
        "  id_u = rv[\"user_id\"]\n",
        "  id_b = rv[\"business_id\"]\n",
        "\n",
        "  client = onto.Client(id_u)\n",
        "  prest = onto.Service(id_b)\n",
        "\n",
        "  interested = interest(client, prest)\n",
        "\n",
        "  if interested > 1:\n",
        "    print(\"error\")\n",
        "\n",
        "  sim_users = matrix[matrix[id_b] != 0] \n",
        "\n",
        "  n = note(id_u, sim_users, id_b)\n",
        "\n",
        "  prediction = interested * n\n",
        "\n",
        "  y_true.append(rv[\"stars\"])\n",
        "  y_pred.append( prediction )\n",
        "\n",
        "  inter.append( (id_u, id_b, interested) )\n",
        "  results.append(  (id_u, id_b, prediction) )\n",
        "\n",
        "  cpt+=1\n",
        "\n",
        "  if (cpt%10)==0:\n",
        "    print(\"cpt = \", cpt)  \n",
        "\n",
        "  if (cpt%10)==0:\n",
        "    print(\"mae = \", mean_absolute_error(y_true, y_pred))\n",
        "    print(\"rmse = \", sqrt(mean_squared_error(y_true, y_pred)))"
      ],
      "execution_count": null,
      "outputs": [
        {
          "output_type": "stream",
          "text": [
            "loaded\n",
            "cpt =  10\n",
            "mae =  0.5964639843095844\n",
            "rmse =  0.8773605474492234\n",
            "cpt =  20\n",
            "mae =  0.6463289869935702\n",
            "rmse =  0.8717256128224383\n",
            "cpt =  30\n",
            "mae =  0.8894255623639119\n",
            "rmse =  1.1158401836130372\n",
            "cpt =  40\n",
            "mae =  0.8012018087274562\n",
            "rmse =  1.0192570402885124\n",
            "cpt =  50\n",
            "mae =  0.7862377177828123\n",
            "rmse =  0.9917582484413897\n",
            "cpt =  60\n",
            "mae =  0.8058616000959756\n",
            "rmse =  1.0143813130778339\n",
            "cpt =  70\n",
            "mae =  0.8315249804503592\n",
            "rmse =  1.0443587387049653\n",
            "cpt =  80\n",
            "mae =  0.8526650549863206\n",
            "rmse =  1.070507360677711\n",
            "cpt =  90\n",
            "mae =  0.8698569616090676\n",
            "rmse =  1.0960082538499747\n",
            "cpt =  100\n",
            "mae =  0.865620514047732\n",
            "rmse =  1.0957027856440573\n",
            "cpt =  110\n",
            "mae =  0.8468415003994496\n",
            "rmse =  1.0690409003296626\n",
            "cpt =  120\n",
            "mae =  0.8438459575053876\n",
            "rmse =  1.0560487589783227\n",
            "cpt =  130\n",
            "mae =  0.8767049754105859\n",
            "rmse =  1.1015279676359264\n",
            "cpt =  140\n",
            "mae =  0.8841126042934689\n",
            "rmse =  1.1047822568565204\n",
            "cpt =  150\n",
            "mae =  0.9024933584922481\n",
            "rmse =  1.1201259232280916\n",
            "cpt =  160\n",
            "mae =  0.8891989955689038\n",
            "rmse =  1.1066514011122301\n",
            "cpt =  170\n",
            "mae =  0.8803859239803168\n",
            "rmse =  1.096364031288308\n",
            "cpt =  180\n",
            "mae =  0.8858495433951027\n",
            "rmse =  1.1138453956743823\n",
            "cpt =  190\n",
            "mae =  0.8641955223787794\n",
            "rmse =  1.0921269415903365\n",
            "cpt =  200\n",
            "mae =  0.8693557864521442\n",
            "rmse =  1.0948748164245476\n",
            "cpt =  210\n",
            "mae =  0.8534396806711064\n",
            "rmse =  1.0780515181387877\n",
            "cpt =  220\n",
            "mae =  0.8492709389227837\n",
            "rmse =  1.0683259819655304\n",
            "cpt =  230\n",
            "mae =  0.8467147771463855\n",
            "rmse =  1.0655803947066795\n",
            "cpt =  240\n",
            "mae =  0.8295842639598814\n",
            "rmse =  1.0495986601920657\n",
            "cpt =  250\n",
            "mae =  0.82825435810384\n",
            "rmse =  1.04489786813141\n",
            "cpt =  260\n",
            "mae =  0.8231014462606814\n",
            "rmse =  1.0370449541318585\n",
            "cpt =  270\n",
            "mae =  0.8254001682349255\n",
            "rmse =  1.0410776097676213\n",
            "cpt =  280\n",
            "mae =  0.8394559358466178\n",
            "rmse =  1.0603982333266397\n",
            "cpt =  290\n",
            "mae =  0.8473173828969786\n",
            "rmse =  1.0693328688667703\n",
            "cpt =  300\n",
            "mae =  0.8455754487231837\n",
            "rmse =  1.0678549804519484\n",
            "cpt =  310\n",
            "mae =  0.8606308899436336\n",
            "rmse =  1.087736471946215\n",
            "cpt =  320\n",
            "mae =  0.8574015315502821\n",
            "rmse =  1.088832280000262\n",
            "cpt =  330\n",
            "mae =  0.8417228843143779\n",
            "rmse =  1.0750206018079045\n",
            "cpt =  340\n",
            "mae =  0.8402413455050667\n",
            "rmse =  1.073559621100795\n",
            "cpt =  350\n",
            "mae =  0.8386271315476459\n",
            "rmse =  1.0703654415621822\n",
            "cpt =  360\n",
            "mae =  0.8364643716502062\n",
            "rmse =  1.0659783630515651\n",
            "cpt =  370\n",
            "mae =  0.8407609308277103\n",
            "rmse =  1.0717972828329705\n",
            "cpt =  380\n",
            "mae =  0.8432420162541436\n",
            "rmse =  1.0725061461965135\n",
            "cpt =  390\n",
            "mae =  0.8541958689956352\n",
            "rmse =  1.0794139574236665\n",
            "cpt =  400\n",
            "mae =  0.8493002013132558\n",
            "rmse =  1.075818729033894\n",
            "cpt =  410\n",
            "mae =  0.8524281235927696\n",
            "rmse =  1.0783101689722818\n",
            "cpt =  420\n",
            "mae =  0.849308851321707\n",
            "rmse =  1.0729555453292337\n",
            "cpt =  430\n",
            "mae =  0.8581055219705871\n",
            "rmse =  1.0841299802917845\n",
            "cpt =  440\n",
            "mae =  0.8554131947229664\n",
            "rmse =  1.0793181568718422\n",
            "cpt =  450\n",
            "mae =  0.8577669421593073\n",
            "rmse =  1.0821373493888529\n",
            "cpt =  460\n",
            "mae =  0.8564732922053592\n",
            "rmse =  1.0795769908105148\n",
            "cpt =  470\n",
            "mae =  0.8518684113475576\n",
            "rmse =  1.0737602555250352\n",
            "cpt =  480\n",
            "mae =  0.8492800875114112\n",
            "rmse =  1.0711129417991123\n",
            "cpt =  490\n",
            "mae =  0.8488156434307317\n",
            "rmse =  1.070363043010483\n",
            "cpt =  500\n",
            "mae =  0.8500063136587133\n",
            "rmse =  1.0702474422950894\n",
            "cpt =  510\n",
            "mae =  0.8459564835298361\n",
            "rmse =  1.065866423490618\n",
            "cpt =  520\n",
            "mae =  0.84330728006638\n",
            "rmse =  1.0650982403657085\n",
            "cpt =  530\n",
            "mae =  0.840064177789037\n",
            "rmse =  1.062299068001015\n",
            "cpt =  540\n",
            "mae =  0.8448915973731906\n",
            "rmse =  1.071460216654404\n",
            "cpt =  550\n",
            "mae =  0.8402561574339225\n",
            "rmse =  1.0656561687704895\n",
            "cpt =  560\n",
            "mae =  0.8390934162846828\n",
            "rmse =  1.069398713704153\n",
            "cpt =  570\n",
            "mae =  0.8409101174094156\n",
            "rmse =  1.0740723529247964\n",
            "cpt =  580\n",
            "mae =  0.8437671328302071\n",
            "rmse =  1.079275357958951\n",
            "cpt =  590\n",
            "mae =  0.8417680241645294\n",
            "rmse =  1.07645201144692\n",
            "cpt =  600\n",
            "mae =  0.8413319386861067\n",
            "rmse =  1.076723442416945\n",
            "cpt =  610\n",
            "mae =  0.8381455931733911\n",
            "rmse =  1.073339734706045\n",
            "cpt =  620\n",
            "mae =  0.8427548783798139\n",
            "rmse =  1.0758072205486136\n",
            "cpt =  630\n",
            "mae =  0.8459529467459533\n",
            "rmse =  1.0779215704754417\n",
            "cpt =  640\n",
            "mae =  0.8423508187927109\n",
            "rmse =  1.0732417164340535\n",
            "cpt =  650\n",
            "mae =  0.8399645605134055\n",
            "rmse =  1.0704725532496993\n",
            "cpt =  660\n",
            "mae =  0.8396661499775998\n",
            "rmse =  1.0717211288657327\n",
            "cpt =  670\n",
            "mae =  0.8349531037429929\n",
            "rmse =  1.0661936616138137\n",
            "cpt =  680\n",
            "mae =  0.8355849871192648\n",
            "rmse =  1.0657896794921575\n",
            "cpt =  690\n",
            "mae =  0.836457195244868\n",
            "rmse =  1.0671470969717889\n",
            "cpt =  700\n",
            "mae =  0.8390184950091674\n",
            "rmse =  1.067614615830915\n",
            "cpt =  710\n",
            "mae =  0.8418625122392195\n",
            "rmse =  1.0733630034130976\n",
            "cpt =  720\n",
            "mae =  0.8404445202974573\n",
            "rmse =  1.0716177871053971\n",
            "cpt =  730\n",
            "mae =  0.8353900843422636\n",
            "rmse =  1.0664668463573477\n",
            "cpt =  740\n",
            "mae =  0.8345322847668973\n",
            "rmse =  1.0702262623719907\n",
            "cpt =  750\n",
            "mae =  0.8343924340224761\n",
            "rmse =  1.0717213668102812\n",
            "cpt =  760\n",
            "mae =  0.8310299190633171\n",
            "rmse =  1.0676512029159357\n",
            "cpt =  770\n",
            "mae =  0.8338483366684274\n",
            "rmse =  1.0700665163459069\n",
            "cpt =  780\n",
            "mae =  0.8364323904093575\n",
            "rmse =  1.0748911342140006\n",
            "cpt =  790\n",
            "mae =  0.835683352864096\n",
            "rmse =  1.0765394084283422\n",
            "cpt =  800\n",
            "mae =  0.8352511882172018\n",
            "rmse =  1.076879528307194\n",
            "cpt =  810\n",
            "mae =  0.8363755199236075\n",
            "rmse =  1.0772692725764257\n",
            "cpt =  820\n",
            "mae =  0.8352852388297185\n",
            "rmse =  1.0756104027254743\n",
            "cpt =  830\n",
            "mae =  0.830128167147593\n",
            "rmse =  1.0710654340835943\n",
            "cpt =  840\n",
            "mae =  0.8297246228282918\n",
            "rmse =  1.0688735423031916\n",
            "cpt =  850\n",
            "mae =  0.8281571627397296\n",
            "rmse =  1.066509148603462\n",
            "cpt =  860\n",
            "mae =  0.8273926258742359\n",
            "rmse =  1.0649177732404504\n",
            "cpt =  870\n",
            "mae =  0.8269676595296988\n",
            "rmse =  1.0630490757498867\n",
            "cpt =  880\n",
            "mae =  0.8289541729995707\n",
            "rmse =  1.066041768480068\n",
            "cpt =  890\n",
            "mae =  0.831534919893605\n",
            "rmse =  1.0686652094567193\n",
            "cpt =  900\n",
            "mae =  0.8316815415374624\n",
            "rmse =  1.068497494319678\n",
            "cpt =  910\n",
            "mae =  0.8325904977831582\n",
            "rmse =  1.0682162788872853\n",
            "cpt =  920\n",
            "mae =  0.82952545990127\n",
            "rmse =  1.0647067847406473\n",
            "cpt =  930\n",
            "mae =  0.8309742916581778\n",
            "rmse =  1.0655637639837179\n",
            "cpt =  940\n",
            "mae =  0.8306428085797354\n",
            "rmse =  1.0665879695036786\n",
            "cpt =  950\n",
            "mae =  0.8303887338370509\n",
            "rmse =  1.0668377589191804\n",
            "cpt =  960\n",
            "mae =  0.827146222411016\n",
            "rmse =  1.0630713889942893\n",
            "cpt =  970\n",
            "mae =  0.8275278848485371\n",
            "rmse =  1.0645369922586687\n",
            "cpt =  980\n",
            "mae =  0.8246835200039265\n",
            "rmse =  1.0612580152097562\n",
            "cpt =  990\n",
            "mae =  0.8261173833725762\n",
            "rmse =  1.0626940857097806\n",
            "cpt =  1000\n",
            "mae =  0.8265283930117456\n",
            "rmse =  1.0613486355456145\n",
            "cpt =  1010\n",
            "mae =  0.828636983374311\n",
            "rmse =  1.0639840854183589\n",
            "cpt =  1020\n",
            "mae =  0.833918335745735\n",
            "rmse =  1.070078678907449\n",
            "cpt =  1030\n",
            "mae =  0.8356464518173947\n",
            "rmse =  1.071550895423815\n",
            "cpt =  1040\n",
            "mae =  0.8363355427602603\n",
            "rmse =  1.0727904494315643\n",
            "cpt =  1050\n",
            "mae =  0.8353624084231104\n",
            "rmse =  1.0716721413607038\n",
            "cpt =  1060\n",
            "mae =  0.8372802767354659\n",
            "rmse =  1.073765553601196\n",
            "cpt =  1070\n",
            "mae =  0.8369103394955579\n",
            "rmse =  1.0726835127053478\n",
            "cpt =  1080\n",
            "mae =  0.8371313765859103\n",
            "rmse =  1.0723655174288917\n",
            "cpt =  1090\n",
            "mae =  0.8360488141404441\n",
            "rmse =  1.0714924814330675\n",
            "cpt =  1100\n",
            "mae =  0.8347586486613147\n",
            "rmse =  1.0699203023665413\n",
            "cpt =  1110\n",
            "mae =  0.8328804682146569\n",
            "rmse =  1.0674711517363522\n",
            "cpt =  1120\n",
            "mae =  0.8304963995570408\n",
            "rmse =  1.0644827545441373\n",
            "cpt =  1130\n",
            "mae =  0.8326664191618122\n",
            "rmse =  1.0665073660973905\n",
            "cpt =  1140\n",
            "mae =  0.8281831937578896\n",
            "rmse =  1.0625904430528792\n",
            "cpt =  1150\n",
            "mae =  0.8287491105539826\n",
            "rmse =  1.0644571888315817\n",
            "cpt =  1160\n",
            "mae =  0.8287160842474118\n",
            "rmse =  1.0640780709515145\n",
            "cpt =  1170\n",
            "mae =  0.8287634309710564\n",
            "rmse =  1.0635999393623314\n",
            "cpt =  1180\n",
            "mae =  0.8280040156013465\n",
            "rmse =  1.062384233080035\n",
            "cpt =  1190\n",
            "mae =  0.8277644907344656\n",
            "rmse =  1.0609265321012482\n",
            "cpt =  1200\n",
            "mae =  0.8302392241203417\n",
            "rmse =  1.0640205307236117\n",
            "cpt =  1210\n",
            "mae =  0.8277018294659659\n",
            "rmse =  1.0611953147738633\n",
            "cpt =  1220\n",
            "mae =  0.8261314707866417\n",
            "rmse =  1.05913835014754\n",
            "cpt =  1230\n",
            "mae =  0.82557633336969\n",
            "rmse =  1.057982955654344\n",
            "cpt =  1240\n",
            "mae =  0.8249195863334949\n",
            "rmse =  1.0583407777299154\n",
            "cpt =  1250\n",
            "mae =  0.8255375264625738\n",
            "rmse =  1.059347805132969\n",
            "cpt =  1260\n",
            "mae =  0.8257377358183158\n",
            "rmse =  1.0592623825051992\n",
            "cpt =  1270\n",
            "mae =  0.8228326057924854\n",
            "rmse =  1.0562191083024581\n",
            "cpt =  1280\n",
            "mae =  0.8216202809166614\n",
            "rmse =  1.054383475754344\n",
            "cpt =  1290\n",
            "mae =  0.8206470844554669\n",
            "rmse =  1.0537818935501848\n",
            "cpt =  1300\n",
            "mae =  0.8194282243870047\n",
            "rmse =  1.0524102038013015\n"
          ],
          "name": "stdout"
        }
      ]
    },
    {
      "cell_type": "code",
      "metadata": {
        "id": "V-7xzPdRFz0N",
        "outputId": "ec47f422-032c-4f44-891b-f87598effd60",
        "colab": {
          "base_uri": "https://localhost:8080/",
          "height": 51
        }
      },
      "source": [
        "from sklearn.metrics import mean_absolute_error, mean_squared_error\n",
        "from math import sqrt\n",
        "print(\"mae = \", mean_absolute_error(y_true, y_pred))\n",
        "print(\"rmse = \", sqrt(mean_squared_error(y_true, y_pred)))"
      ],
      "execution_count": null,
      "outputs": [
        {
          "output_type": "stream",
          "text": [
            "mae =  0.4573414272356595\n",
            "rmse =  0.5756154557991622\n"
          ],
          "name": "stdout"
        }
      ]
    },
    {
      "cell_type": "code",
      "metadata": {
        "id": "Fuu47cWtWf-R",
        "outputId": "84b7de19-0895-4314-892d-2801dff5863c",
        "colab": {
          "base_uri": "https://localhost:8080/",
          "height": 71
        }
      },
      "source": [
        "print(y_true[:10])\n",
        "print(y_pred[:10])"
      ],
      "execution_count": null,
      "outputs": [
        {
          "output_type": "stream",
          "text": [
            "[4.0, 4.0, 4.0, 4.0, 1.0, 2.0, 4.0, 5.0, 4.0, 1.0]\n",
            "[3.8882927548272663, 3.9962808208198775, 3.9457623063907645, 4.062215907418183, 1.636879974342237, 2.5749167416301066, 4.166333580784723, 4.363046128382418, 4.010414583552971, 1.6284259750214287]\n"
          ],
          "name": "stdout"
        }
      ]
    },
    {
      "cell_type": "code",
      "metadata": {
        "id": "_WB7fx_vF4fr",
        "outputId": "d10d68c0-a4b9-4341-817c-dfe8f0ff5d7a",
        "colab": {
          "base_uri": "https://localhost:8080/",
          "height": 34
        }
      },
      "source": [
        "print(cpt)"
      ],
      "execution_count": null,
      "outputs": [
        {
          "output_type": "stream",
          "text": [
            "57\n"
          ],
          "name": "stdout"
        }
      ]
    }
  ]
}