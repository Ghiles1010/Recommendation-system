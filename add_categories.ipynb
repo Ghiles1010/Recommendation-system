{
  "nbformat": 4,
  "nbformat_minor": 0,
  "metadata": {
    "colab": {
      "name": "add_categories.ipynb",
      "provenance": [],
      "collapsed_sections": [],
      "include_colab_link": true
    },
    "kernelspec": {
      "name": "python3",
      "display_name": "Python 3"
    }
  },
  "cells": [
    {
      "cell_type": "markdown",
      "metadata": {
        "id": "view-in-github",
        "colab_type": "text"
      },
      "source": [
        "<a href=\"https://colab.research.google.com/github/Ghiles1010/Recommendation-system/blob/master/add_categories.ipynb\" target=\"_parent\"><img src=\"https://colab.research.google.com/assets/colab-badge.svg\" alt=\"Open In Colab\"/></a>"
      ]
    },
    {
      "cell_type": "code",
      "metadata": {
        "id": "SbA6r9u_1Lxt",
        "outputId": "f46ef26f-9465-4909-8d56-a5e50cd649d3",
        "colab": {
          "base_uri": "https://localhost:8080/",
          "height": 122
        }
      },
      "source": [
        "import os\n",
        "from google.colab import drive\n",
        "drive.mount('/content/drive')\n",
        "os.chdir(\"/content/drive/My Drive\")"
      ],
      "execution_count": null,
      "outputs": [
        {
          "output_type": "stream",
          "text": [
            "Go to this URL in a browser: https://accounts.google.com/o/oauth2/auth?client_id=947318989803-6bn6qk8qdgf4n4g3pfee6491hc0brc4i.apps.googleusercontent.com&redirect_uri=urn%3aietf%3awg%3aoauth%3a2.0%3aoob&scope=email%20https%3a%2f%2fwww.googleapis.com%2fauth%2fdocs.test%20https%3a%2f%2fwww.googleapis.com%2fauth%2fdrive%20https%3a%2f%2fwww.googleapis.com%2fauth%2fdrive.photos.readonly%20https%3a%2f%2fwww.googleapis.com%2fauth%2fpeopleapi.readonly&response_type=code\n",
            "\n",
            "Enter your authorization code:\n",
            "··········\n",
            "Mounted at /content/drive\n"
          ],
          "name": "stdout"
        }
      ]
    },
    {
      "cell_type": "code",
      "metadata": {
        "id": "CNmJsQSN1h7X",
        "outputId": "c647b7e4-2c3c-447d-e14c-f0d4e7f2d364",
        "colab": {
          "base_uri": "https://localhost:8080/",
          "height": 34
        }
      },
      "source": [
        "f_u = open(\"User_movielens.json\")\n",
        "l_u = f_u.readlines()\n",
        "f_u.close()\n",
        "\n",
        "f_b = open(\"Item_movielens.json\")\n",
        "l_b = f_b.readlines()\n",
        "f_b.close()\n",
        "\n",
        "f_r = open(\"Review_movielens.json\")\n",
        "l_r = f_r.readlines()\n",
        "f_r.close()\n",
        "print(len(l_r))"
      ],
      "execution_count": null,
      "outputs": [
        {
          "output_type": "stream",
          "text": [
            "100000\n"
          ],
          "name": "stdout"
        }
      ]
    },
    {
      "cell_type": "code",
      "metadata": {
        "id": "Vun8lmVI2gcd",
        "outputId": "15341787-7f2d-484d-b7f8-82fe3924efe5",
        "colab": {
          "base_uri": "https://localhost:8080/",
          "height": 85
        }
      },
      "source": [
        "for i in l_b:\n",
        "  print(i)\n",
        "  break\n",
        "\n",
        "for i in l_u:\n",
        "  print(i)\n",
        "  break"
      ],
      "execution_count": null,
      "outputs": [
        {
          "output_type": "stream",
          "text": [
            "{\"business_id\": \"1\", \"categories\": [\"Animation\", \"Children's\", \"Comedy\"]}\n",
            "\n",
            "{\"user_id\": \"196\"}\n",
            "\n"
          ],
          "name": "stdout"
        }
      ]
    },
    {
      "cell_type": "code",
      "metadata": {
        "id": "XJejP0Ca4X31"
      },
      "source": [
        "import json\n",
        "\n",
        "users = {}\n",
        "for i in l_u:\n",
        "  js = json.loads(i)\n",
        "  users[js[\"user_id\"]] = js\n",
        "\n",
        "prests = {}\n",
        "for i in l_b:\n",
        "  js = json.loads(i)\n",
        "  prests[js[\"business_id\"]] = js\n",
        "\n"
      ],
      "execution_count": null,
      "outputs": []
    },
    {
      "cell_type": "code",
      "metadata": {
        "id": "YoRjQ53JK_dU",
        "outputId": "3af1e74c-202b-4a7c-d300-2dd6b2c18987",
        "colab": {
          "base_uri": "https://localhost:8080/",
          "height": 34
        }
      },
      "source": [
        "print(users[\"500\"])"
      ],
      "execution_count": null,
      "outputs": [
        {
          "output_type": "stream",
          "text": [
            "{'user_id': '500'}\n"
          ],
          "name": "stdout"
        }
      ]
    },
    {
      "cell_type": "code",
      "metadata": {
        "id": "y96wMJmFEZr_",
        "outputId": "dc389c78-bf36-4cd4-f4b1-ce7b03e955a4",
        "colab": {
          "base_uri": "https://localhost:8080/",
          "height": 51
        }
      },
      "source": [
        "for i in prests:\n",
        "  print(i)\n",
        "  print(prests[i])\n",
        "  break"
      ],
      "execution_count": null,
      "outputs": [
        {
          "output_type": "stream",
          "text": [
            "1\n",
            "{'business_id': '1', 'categories': ['Animation', \"Children's\", 'Comedy']}\n"
          ],
          "name": "stdout"
        }
      ]
    },
    {
      "cell_type": "code",
      "metadata": {
        "id": "FdbLX5CC7ZZP"
      },
      "source": [
        "def add_missing_cat(user, prest):\n",
        "\n",
        "  if user.get(\"categories\") == None:\n",
        "    user[\"categories\"] = {}\n",
        "\n",
        "  for i in prest[\"categories\"] :\n",
        "    categ = i.replace(\" \",\"_\").replace(\"(\",\"\").replace(\")\",\"\")\n",
        "    user[\"categories\"][categ] = user[\"categories\"].get(categ, 0) + 1\n",
        "  \n",
        "  return user\n"
      ],
      "execution_count": null,
      "outputs": []
    },
    {
      "cell_type": "code",
      "metadata": {
        "id": "AottPLN926ZD"
      },
      "source": [
        "\n",
        "for i in l_r:\n",
        "\n",
        "  categories = {}\n",
        "  js = json.loads(i)\n",
        "  \n",
        "  id_u = js[\"user_id\"]\n",
        "  id_b = js[\"business_id\"]\n",
        "\n",
        "  users[id_u] = add_missing_cat(users[id_u], prests[id_b])\n",
        "\n"
      ],
      "execution_count": null,
      "outputs": []
    },
    {
      "cell_type": "code",
      "metadata": {
        "id": "zKTY_ImjPdEb",
        "outputId": "8e51ad34-ebcb-4bf8-8f09-10b83cc9f79f",
        "colab": {
          "base_uri": "https://localhost:8080/",
          "height": 54
        }
      },
      "source": [
        "print(users[\"500\"])"
      ],
      "execution_count": null,
      "outputs": [
        {
          "output_type": "stream",
          "text": [
            "{'user_id': '500', 'categories': {'Comedy': 78, 'Romance': 65, 'Drama': 108, 'Mystery': 6, 'Thriller': 40, 'Action': 41, 'Horror': 10, 'Sci-Fi': 29, 'War': 16, 'Adventure': 27, 'Animation': 1, \"Children's\": 12, 'Musical': 5, 'Crime': 11, 'Film-Noir': 2, 'Western': 1, 'Fantasy': 5}}\n"
          ],
          "name": "stdout"
        }
      ]
    },
    {
      "cell_type": "code",
      "metadata": {
        "id": "_i9kVI3dGFe_"
      },
      "source": [
        "out = open(\"Users_cat_movielens.json\",'w')\n",
        "\n",
        "for i in users:\n",
        "  str_u = json.dumps(users[i])\n",
        "  out.write(str_u+\"\\n\")\n",
        "\n",
        "out.close()"
      ],
      "execution_count": null,
      "outputs": []
    },
    {
      "cell_type": "code",
      "metadata": {
        "id": "JHHdF6kqIEhK",
        "outputId": "f5a4d5ab-6f35-4bfd-c693-31c785fefd07",
        "colab": {
          "base_uri": "https://localhost:8080/",
          "height": 187
        }
      },
      "source": [
        "lu = open(\"Users_cat_movielens.json\").readlines()\n",
        "\n",
        "for i in lu:\n",
        "  client=json.loads(i)\n",
        "  for j in client[\"categories\"]:\n",
        "    print(j,client[\"categories\"][j])\n",
        "  break"
      ],
      "execution_count": null,
      "outputs": [
        {
          "output_type": "stream",
          "text": [
            "Comedy 32\n",
            "Romance 11\n",
            "Adventure 4\n",
            "Drama 11\n",
            "War 2\n",
            "Children's 2\n",
            "Action 3\n",
            "Sci-Fi 2\n",
            "Fantasy 1\n",
            "Documentary 1\n"
          ],
          "name": "stdout"
        }
      ]
    }
  ]
}