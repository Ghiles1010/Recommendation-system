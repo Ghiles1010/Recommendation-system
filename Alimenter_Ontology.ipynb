{
  "nbformat": 4,
  "nbformat_minor": 0,
  "metadata": {
    "colab": {
      "name": "Alimenter_Ontology.ipynb",
      "provenance": [],
      "collapsed_sections": [],
      "authorship_tag": "ABX9TyMvtGl02ZsnwsHTuAtHuS0V",
      "include_colab_link": true
    },
    "kernelspec": {
      "name": "python3",
      "display_name": "Python 3"
    }
  },
  "cells": [
    {
      "cell_type": "markdown",
      "metadata": {
        "id": "view-in-github",
        "colab_type": "text"
      },
      "source": [
        "<a href=\"https://colab.research.google.com/github/Ghiles1010/Recommendation-system/blob/master/Alimenter_Ontology.ipynb\" target=\"_parent\"><img src=\"https://colab.research.google.com/assets/colab-badge.svg\" alt=\"Open In Colab\"/></a>"
      ]
    },
    {
      "cell_type": "code",
      "metadata": {
        "id": "PlonH0YdbCry",
        "outputId": "62a294d5-387b-4d1d-e1ae-3e511af9247f",
        "colab": {
          "base_uri": "https://localhost:8080/",
          "height": 34
        }
      },
      "source": [
        "!pip install owlready2"
      ],
      "execution_count": null,
      "outputs": [
        {
          "output_type": "stream",
          "text": [
            "Requirement already satisfied: owlready2 in /usr/local/lib/python3.6/dist-packages (0.24)\n"
          ],
          "name": "stdout"
        }
      ]
    },
    {
      "cell_type": "code",
      "metadata": {
        "id": "hX1S-gYDbPZY"
      },
      "source": [
        "from owlready2 import *\n",
        "from random import randint\n",
        "from random import seed\n",
        "import json\n",
        "import os\n",
        "import types"
      ],
      "execution_count": null,
      "outputs": []
    },
    {
      "cell_type": "code",
      "metadata": {
        "id": "ZcEbpIU_TCCe",
        "outputId": "8f89bb8b-448d-4edb-f9e9-ee032e691c0d",
        "colab": {
          "base_uri": "https://localhost:8080/",
          "height": 221
        }
      },
      "source": [
        "from google.colab import drive\n",
        "drive.mount('/content/drive')\n",
        "os.chdir(\"/content/drive/My Drive/PFE STUFF/Yelp_DB\")\n",
        "os.listdir()\n",
        "!ls\n",
        "file_b=open(\"Business_Yelp.json\")\n",
        "file_u=open(\"Users_cat_Yelp.json\")\n",
        "onto = get_ontology(\"Ontology.owl\").load()"
      ],
      "execution_count": null,
      "outputs": [
        {
          "output_type": "stream",
          "text": [
            "Drive already mounted at /content/drive; to attempt to forcibly remount, call drive.mount(\"/content/drive\", force_remount=True).\n",
            "add_categories.ipynb\t\t\t pmf.txt\n",
            "Business_Yelp.json\t\t\t regression_model2.h5\n",
            "doc2vec150.model\t\t\t regression_model_sentiments.h5\n",
            "doc2vec150.model.trainables.syn1neg.npy  results_sem.txt\n",
            "doc2vec150.model.wv.vectors.npy\t\t Review_Yelp.json\n",
            "doc2vec.model\t\t\t\t train.txt\n",
            "doc2vec.model.trainables.syn1neg.npy\t Users_cat_Yelp.json\n",
            "doc2vec.model.wv.vectors.npy\t\t User_Yelp.json\n",
            "interest.txt\t\t\t\t word2vec.model\n",
            "model.png\t\t\t\t word2vec.model.trainables.syn1neg.npy\n",
            "Ontology.owl\t\t\t\t word2vec.model.wv.vectors.npy\n"
          ],
          "name": "stdout"
        }
      ]
    },
    {
      "cell_type": "code",
      "metadata": {
        "id": "sPflerRAblPM",
        "outputId": "4c5618ad-474e-4a40-814d-ef9b380d9352",
        "colab": {
          "base_uri": "https://localhost:8080/",
          "height": 71
        }
      },
      "source": [
        "\n",
        "classes=list(onto.classes())\n",
        "print(classes)\n",
        "\n",
        "print(onto[\"Sandwiches\"])\n"
      ],
      "execution_count": null,
      "outputs": [
        {
          "output_type": "stream",
          "text": [
            "[Ontology.Doctors, Ontology.Medical_Centers, Ontology.Category, Ontology.Owner, Ontology.&_Probates, Ontology.Wills,_Trusts,_&_Probates, Ontology.3D_Printing, Ontology.Local_Services, Ontology.ATV_Rentals/Tours, Ontology.Mountain_Activities, Ontology.Abruzzese, Ontology.Italian, Ontology.Absinthe_Bars, Ontology.Bars, Ontology.Acai_Bowls, Ontology.Food, Ontology.Accessories, Ontology.Fashion, Ontology.Accountants, Ontology.Professional_Services, Ontology.Acne_Treatment, Ontology.Facial_Treatment, Ontology.Active_Life, Ontology.Acupuncture, Ontology.Alternative_Medicine, Ontology.Addiction_Medicine, Ontology.Adoption_Services, Ontology.Adult, Ontology.Shopping, Ontology.Adult_Education, Ontology.Education, Ontology.Adult_Entertainment, Ontology.Nightlife, Ontology.Advertising, Ontology.Aerial_Fitness, Ontology.Fitness_&_Instruction, Ontology.Aerial_Tours, Ontology.Tours, Ontology.Aestheticians, Ontology.Medical_Spas, Ontology.Afghan, Ontology.South_Eastern, Ontology.African, Ontology.Restaurants, Ontology.Afro-Brazilian, Ontology.Religious_Organizations, Ontology.Agriturismi, Ontology.Hotels, Ontology.Air_Duct_Cleaning, Ontology.Aircraft_Dealers, Ontology.Automotive, Ontology.Aircraft_Repairs, Ontology.Airlines, Ontology.Transportation, Ontology.Airport_Lounges, Ontology.Airport_Shuttles, Ontology.Airport_Terminals, Ontology.Airports, Ontology.Hotels_&_Travel, Ontology.Airsoft, Ontology.Shooting_sports, Ontology.Alentejo, Ontology.Portuguese, Ontology.Algarve, Ontology.Allergists, Ontology.Alsatian, Ontology.French, Ontology.Health_&_Medical, Ontology.Altoatesine, Ontology.Amateur_Sports_Teams, Ontology.American_New, Ontology.USA, Ontology.American_Traditional, Ontology.Americas, Ontology.Amusement_Parks, Ontology.Parks, Ontology.Anesthesiologists, Ontology.Animal_Assisted_Therapy, Ontology.Habilitative_Services, Ontology.Animal_Physical_Therapy, Ontology.Pet_Services, Ontology.Animal_Shelters, Ontology.Pets, Ontology.Antiques, Ontology.Apartment_Agents, Ontology.Real_Estate_Agents, Ontology.Apartments, Ontology.Real_Estate, Ontology.Appliances, Ontology.Home_&_Garden, Ontology.Appliances_&_Repair, Ontology.Appraisal_Services, Ontology.Apulian, Ontology.Aquarium_Services, Ontology.Aquariums, Ontology.Aquatic_Activities, Ontology.Arabian, Ontology.Middle_Eastern, Ontology.Arcades, Ontology.Arts_&_Entertainment, Ontology.Archery, Ontology.Architects, Ontology.Architectural_Tours, Ontology.Argentine, Ontology.South_Americas, Ontology.Armenian, Ontology.European, Ontology.Arroceria_/_Paella, Ontology.Spanish, Ontology.Art_Classes, Ontology.Art_Consultants, Ontology.Art_Galleries, Ontology.Art_Installation, Ontology.Art_Museums, Ontology.Museums, Ontology.Art_Restoration, Ontology.Art_Schools, Ontology.Specialty_Schools, Ontology.Art_Space_Rentals, Ontology.Art_Supplies, Ontology.Arts_&_Crafts, Ontology.Art_Tours, Ontology.Artificial_Turf, Ontology.Home_Services, Ontology.Asian_Fusion, Ontology.asian, Ontology.Assisted_Living_Facilities, Ontology.Astrologers, Ontology.Supernatural_Readings, Ontology.Ateliers, Ontology.Attraction_Farms, Ontology.Farms, Ontology.Auction_Houses, Ontology.Audio/Visual_Equipment_Rental, Ontology.Party_Equipment_Rentals, Ontology.Audiologist, Ontology.Australian, Ontology.Austrian, Ontology.Authorized_Postal_Representative, Ontology.Public_Services_&_Government, Ontology.Auto_Customization, Ontology.Auto_Detailing, Ontology.Auto_Electric_Services, Ontology.Auto_Glass_Services, Ontology.Auto_Insurance, Ontology.Insurance, Ontology.Auto_Loan_Providers, Ontology.Auto_Parts_&_Supplies, Ontology.Auto_Repair, Ontology.Auto_Security, Ontology.Auto_Upholstery, Ontology.Auvergnat, Ontology.Aviation_Services, Ontology.Awnings, Ontology.Axe_Throwing, Ontology.Ayurveda, Ontology.Azores, Ontology.Baby_Gear_&_Furniture, Ontology.Backflow_Services, Ontology.Plumbing, Ontology.Backshop, Ontology.Baden, Ontology.German, Ontology.Badminton, Ontology.Bagels, Ontology.Bail_Bondsmen, Ontology.Bakeries, Ontology.Balloon_Services, Ontology.Event_Planning_&_Services, Ontology.Bangladeshi, Ontology.Bankruptcy_Law, Ontology.Lawyers, Ontology.Banks_&_Credit_Unions, Ontology.Financial_Services, Ontology.Bar_Crawl, Ontology.Barbeque, Ontology.Barbers, Ontology.Hair_Treatment, Ontology.Barre_Classes, Ontology.Bartenders, Ontology.Bartending_Schools, Ontology.Baseball_Fields, Ontology.BasketBall_Related, Ontology.Basketball_Courts, Ontology.Basque, Ontology.Bathing_Area, Ontology.Battery_Stores, Ontology.Batting_Cages, Ontology.Beach_Activities, Ontology.Beach_Bars, Ontology.Beach_Equipment_Rentals, Ontology.Beach_Volleyball, Ontology.Beaches, Ontology.Beauty_&_Spas, Ontology.Bed_&_Breakfast, Ontology.Beer, Ontology.Beer,_Wine_&_Spirits, Ontology.Beer_Bar, Ontology.Beer_Garden, Ontology.Beer_Gardens, Ontology.Beer_Hall, Ontology.Beer_Tours, Ontology.Behavior_Analysts, Ontology.Beira, Ontology.Belgian, Ontology.Bengladeshi, Ontology.Bento, Ontology.Berrichon, Ontology.Bespoke_Clothing, Ontology.Betting_Centers, Ontology.Beverage_Store, Ontology.Bicycle_Paths, Ontology.Two_Wheels, Ontology.Bicycles, Ontology.Bike_Associations, Ontology.Bike_Parking, Ontology.Bike_Rentals, Ontology.Bike_Repair, Ontology.Bike_Repair/Maintenance, Ontology.Bike_Sharing, Ontology.Bike_Shop, Ontology.Bike_tours, Ontology.Bikes, Ontology.Sporting_Goods, Ontology.Billing_Services, Ontology.Bingo_Halls, Ontology.Biohazard_Cleanup, Ontology.Bird_Shops, Ontology.Pet_Stores, Ontology.Bistros, Ontology.Blood_&_Plasma_Donation_Centers, Ontology.Blow_Dry/Out_Services, Ontology.Hair_Salons, Ontology.Blowfish, Ontology.Japanese, Ontology.Boat_Charters, Ontology.Boat_Dealers, Ontology.Boat_Parts_&_Supplies, Ontology.Boat_Repair, Ontology.Boat_Tours, Ontology.Boating, Ontology.Bobsledding, Ontology.Bocce_Ball, Ontology.Body_Contouring, Ontology.Orthotics, Ontology.Body_Shops, Ontology.Bookbinding, Ontology.Bookkeepers, Ontology.Books, Ontology.Books,_Mags,_Music_&_Video, Ontology.Bookstores, Ontology.Boot_Camps, Ontology.Botanical_Gardens, Ontology.Boudoir_Photography, Ontology.Photographers, Ontology.Bounce_House_Rentals, Ontology.Bourguignon, Ontology.Bowling, Ontology.Indoor_Playcentre, Ontology.Boxing, Ontology.Brasseries, Ontology.Brazilian, Ontology.Brazilian_Empanadas, Ontology.Brazilian_Jiu-jitsu, Ontology.Martial_Arts, Ontology.Breakfast_&_Brunch, Ontology.Breweries, Ontology.Brewing_Supplies, Ontology.Brewpubs, Ontology.Bridal, Ontology.British, Ontology.Bubble_Soccer, Ontology.Zorby_Activities, Ontology.Bubble_Tea, Ontology.Buddhist_Temples, Ontology.Buffets, Ontology.Building_Supplies, Ontology.Bulgarian, Ontology.Bulk_Billing, Ontology.Bungee_Jumping, Ontology.Extreme_Sports, Ontology.Burgers, Ontology.Burmese, Ontology.Bus_Rental, Ontology.Bus_Stations, Ontology.Bus_Tours, Ontology.Buses, Ontology.Business_Consulting, Ontology.Business_Financing, Ontology.Business_Law, Ontology.Butcher, Ontology.CPR_Classes, Ontology.CSA, Ontology.Cabaret, Ontology.Cabinetry, Ontology.Cable_Cars, Ontology.Cafes, Ontology.Cafeteria, Ontology.Cajun/Creole, Ontology.Calabrian, Ontology.Calligraphy, Ontology.Cambodian, Ontology.Campgrounds, Ontology.Canadian, Ontology.North_America, Ontology.Canadian_New, Ontology.Candle_Stores, Ontology.Candy_Stores, Ontology.Specialty_Food, Ontology.Cannabis_Clinics, Ontology.Cannabis_Collective, Ontology.Cannabis_Dispensaries, Ontology.Cannabis_Tours, Ontology.Cantonese, Ontology.Chinese, Ontology.Canyoneering, Ontology.Car_Auctions, Ontology.Car_Brokers, Ontology.Car_Buyers, Ontology.Car_Dealers, Ontology.Car_Inspectors, Ontology.Car_Rental, Ontology.Car_Share_Services, Ontology.Car_Stereo_Installation, Ontology.Car_Wash, Ontology.Car_Window_Tinting, Ontology.Cardio_Classes, Ontology.Cardiologists, Ontology.Cards_&_Stationery, Ontology.Career_Counseling, Ontology.Caribbean, Ontology.Islands, Ontology.Caricatures, Ontology.Carousels, Ontology.Kids_Activities, Ontology.Carpenters, Ontology.Carpet_Cleaning, Ontology.Carpet_Dyeing, Ontology.Carpet_Installation, Ontology.Carpeting, Ontology.Casinos, Ontology.Castles, Ontology.Catalan, Ontology.Caterers, Ontology.Central_Brazilian, Ontology.Ceremonial_Clothing, Ontology.Challenge_Courses, Ontology.Champagne_Bars, Ontology.Check_Cashing/Pay-day_Loans, Ontology.Chee_Kufta, Ontology.Turkish, Ontology.Cheerleading, Ontology.Cheese_Shops, Ontology.Cheese_Tasting_Classes, Ontology.Tasting_Classes, Ontology.Cheesesteaks, Ontology.Chicken_Shop, Ontology.Comfort_Food, Ontology.Chicken_Wings, Ontology.Fast_Food, Ontology.Child_Care_&_Day_Care, Ontology.Childbirth_Education, Ontology.Childproofing, Ontology.Children's_Clothing, Ontology.Children's_Museums, Ontology.Chimney_Cakes, Ontology.Chimney_Sweeps, Ontology.Eastern, Ontology.Chinese_Bazaar, Ontology.Chinese_Martial_Arts, Ontology.Chiropractors, Ontology.Chocolatiers_&_Shops, Ontology.Choirs, Ontology.Christmas_Markets, Ontology.Festivals, Ontology.Christmas_Trees, Ontology.Churches, Ontology.Churros, Ontology.Cideries, Ontology.Cigar_Bars, Ontology.Cinema, Ontology.Circuit_Training_Gyms, Ontology.Gyms, Ontology.Circus_Schools, Ontology.Civic_Center, Ontology.Client, Ontology.Climbing, Ontology.Clock_Repair, Ontology.Clothing_Rental, Ontology.Clowns, Ontology.Club_Crawl, Ontology.Cocktail_Bars, Ontology.Coffee_&_Tea, Ontology.Coffee_&_Tea_Supplies, Ontology.Coffee_Roasteries, Ontology.Coffeeshops, Ontology.College_Counseling, Ontology.Colleges_&_Universities, Ontology.Colombian, Ontology.Latin_American, Ontology.Colonics, Ontology.Comedy_Clubs, Ontology.Comic_Books, Ontology.Commercial_Real_Estate, Ontology.Commercial_Truck_Dealers, Ontology.Commercial_Truck_Repair, Ontology.Commissioned_Artists, Ontology.Community_Book_Box, Ontology.Community_Centers, Ontology.Community_Gardens, Ontology.Community_Service/Non-Profit, Ontology.Computers, Ontology.Concept_Shops, Ontology.Concierge_Medicine, Ontology.Condominiums, Ontology.Congee, Ontology.Consumer_Law, Ontology.Contract_Law, Ontology.Contractors, Ontology.Convenience_Stores, Ontology.Conveyor_Belt_Sushi, Ontology.Convoyer_Belt_Sushi, Ontology.Cooking_Classes, Ontology.Cooking_Schools, Ontology.Cosmetic_Dentists, Ontology.Dentists, Ontology.Cosmetic_Surgeons, Ontology.Cosmetics_&_Beauty_Supply, Ontology.Cosmetology_Schools, Ontology.Costumes, Ontology.Counseling_&_Mental_Health, Ontology.Countertop_Installation, Ontology.Country_Clubs, Ontology.Country_Dance_Halls, Ontology.Couriers_&_Delivery_Services, Ontology.Court_Reporters, Ontology.Legal_Services, Ontology.Courthouses, Ontology.Crane_Services, Ontology.Cremation_Services, Ontology.Funeral_Services_&_Cemeteries, Ontology.Creperies, Ontology.Criminal_Defense_Law, Ontology.Crisis_Pregnancy_Centers, Ontology.Urgent_Care, Ontology.Cryotherapy, Ontology.Cuban, Ontology.Cucina_campana, Ontology.Cultural_Center, Ontology.Cupcakes, Ontology.Currency_Exchange, Ontology.Custom_Cakes, Ontology.Customized_Merchandise, Ontology.Customs_Brokers, Ontology.Cycling_Classes, Ontology.Czech, Ontology.Czech/Slovakian, Ontology.DIY_Auto_Shop, Ontology.DJs, Ontology.DUI_Law, Ontology.DUI_Schools, Ontology.Dagashi, Ontology.Damage_Restoration, Ontology.Dance_Clubs, Ontology.Dance_Restaurants, Ontology.Dance_Schools, Ontology.Dance_Studios, Ontology.Dance_Wear, Ontology.Sports_Wear, Ontology.Dart_Arenas, Ontology.Data_Recovery, Ontology.IT_Services_&_Computer_Repair, Ontology.Day_Camps, Ontology.Day_Spas, Ontology.Debt_Relief_Services, Ontology.Decks_&_Railing, Ontology.Delicatessen, Ontology.Delis, Ontology.Demolition_Services, Ontology.Dental_Hygienists, Ontology.Department_Stores, Ontology.Departments_of_Motor_Vehicles, Ontology.Dermatologists, Ontology.Desserts, Ontology.Diagnostic_Imaging, Ontology.Diagnostic_Services, Ontology.Health_Services, Ontology.Dialysis_Clinics, Ontology.Diamond_Buyers, Ontology.Dietitians, Ontology.Digitizing_Services, Ontology.Dim_Sum, Ontology.Diners, Ontology.Dinner_Theater, Ontology.Disability_Law, Ontology.Disc_Golf, Ontology.Discount_Store, Ontology.Distilleries, Ontology.Dive_Bars, Ontology.Dive_Shops, Ontology.Diving, Ontology.Divorce_&_Family_Law, Ontology.Do-It-Yourself_Food, Ontology.Dog_Parks, Ontology.Dog_Walkers, Ontology.Dolmus_Station, Ontology.Dominican, Ontology.Donairs, Ontology.Donation_Center, Ontology.Donburi, Ontology.Donuts, Ontology.Door_Sales/Installation, Ontology.Doulas, Ontology.Prenatal/Perinatal_Care, Ontology.Drama_Schools, Ontology.Dried_Fruit, Ontology.Drive-In_Theater, Ontology.Drive-Thru_Bars, Ontology.Driving_Schools, Ontology.Drones, Ontology.Drugstores, Ontology.Dry_Cleaning, Ontology.Laundry_Services, Ontology.Dry_Cleaning_&_Laundry, Ontology.Drywall_Installation_&_Repair, Ontology.Dumplings, Ontology.Dumpster_Rental, Ontology.Junk_Removal_&_Hauling, Ontology.Duplication_Services, Ontology.Duty-Free_Shops, Ontology.EMS_Training, Ontology.EV_Charging_Stations, Ontology.Ear_Nose_&_Throat, Ontology.Eastern_European, Ontology.Eastern_German, Ontology.Eastern_Mexican, Ontology.Mexican, Ontology.Eatertainment, Ontology.Eating, Ontology.Editorial_Services, Ontology.Educational_Services, Ontology.Egyptian, Ontology.Elder_Care_Planning, Ontology.Elder_Law, Ontology.Electricians, Ontology.Electricity_Suppliers, Ontology.Utilities, Ontology.Electronics, Ontology.Electronics_Repair, Ontology.Elementary_Schools, Ontology.Elevator_Services, Ontology.Embassy, Ontology.Embroidery_&_Crochet, Ontology.Emergency_Medicine, Ontology.Emergency_Pet_Hospital, Ontology.Emergency_Rooms, Ontology.Emilian, Ontology.Empanadas, Ontology.Employment_Agencies, Ontology.Employment_Law, Ontology.Endocrinologists, Ontology.Endodontists, Ontology.Engraving, Ontology.Entertainment_Law, Ontology.Environmental_Abatement, Ontology.Environmental_Testing, Ontology.Eritrean, Ontology.Erotic_Massage, Ontology.Massage, Ontology.Escape_Games, Ontology.Estate_Liquidation, Ontology.Estate_Planning_Law, Ontology.Estheticians, Ontology.Skin_Care, Ontology.Ethical_Grocery, Ontology.Ethiopian, Ontology.Ethnic_Food, Ontology.Ethnic_Grocery, Ontology.Event_Photography, Ontology.Excavation_Services, Ontology.Experiences, Ontology.Eyebrow_Services, Ontology.Eyelash_Service, Ontology.Eyewear_&_Opticians, Ontology.Fabric_Stores, Ontology.Face_Painting, Ontology.Fado_Houses, Ontology.Faith-based_Crisis_Pregnancy_Centers, Ontology.Falafel, Ontology.Family_Practice, Ontology.Farm_Equipment_Repair, Ontology.Farmers_Market, Ontology.Farming_Equipment, Ontology.Farriers, Ontology.Fasil_Music, Ontology.Fences_&_Gates, Ontology.Fencing_Clubs, Ontology.Feng_Shui, Ontology.Ferries, Ontology.Fertility, Ontology.Filipino, Ontology.Financial_Advising, Ontology.Fingerprinting, Ontology.Fire_Departments, Ontology.Fire_Protection_Services, Ontology.Fire_Related, Ontology.Firearm_Training, Ontology.Fireplace_Services, Ontology.Firewood, Ontology.Fireworks, Ontology.First_Aid_Classes, Ontology.Fish_&_Chips, Ontology.Fishing, Ontology.Fishmonger, Ontology.Fitness/Exercise_Equipment, Ontology.Flea_Markets, Ontology.Flemish, Ontology.Flight_Instruction, Ontology.Float_Spa, Ontology.Flooring, Ontology.Floral_Designers, Ontology.Florists, Ontology.Flowers_&_Gifts, Ontology.Flowers, Ontology.Flyboarding, Ontology.Fondue, Ontology.Food_Banks, Ontology.Food_Court, Ontology.Food_Delivery_Services, Ontology.Food_Safety_Training, Ontology.Food_Stands, Ontology.Food_Tours, Ontology.Food_Trucks, Ontology.Foot_Care, Ontology.Forestry, Ontology.Formal_Wear, Ontology.Foundation_Repair, Ontology.Framing, Ontology.Franconian, Ontology.Free_Diving, Ontology.Friterie, Ontology.Friulan, Ontology.Frozen_Food, Ontology.Fruits_&_Veggies, Ontology.Fsith-based_Crisis_Pregnancy_Centers, Ontology.Fuel_Docks, Ontology.Fun_Fair, Ontology.Fur_Clothing, Ontology.Furniture_Assembly, Ontology.Furniture_Rental, Ontology.Furniture_Repair, Ontology.Furniture_Reupholstery, Ontology.Furniture_Stores, Ontology.Fuzhou, Ontology.Game_Meat, Ontology.Game_Truck_Rental, Ontology.Garage_Door_Services, Ontology.Gardeners, Ontology.Gas_Stations, Ontology.Gastroenterologist, Ontology.Gastropubs, Ontology.Gay_Bars, Ontology.Gelato, Ontology.Gemstones_&_Minerals, Ontology.General_Dentistry, Ontology.General_Festivals, Ontology.General_Litigation, Ontology.Generator_Installation/Repair, Ontology.Geneticists, Ontology.Genreral_Dentistry, Ontology.Gerontologists, Ontology.Gestorias, Ontology.Gift_Shops, Ontology.Glass_&_Mirrors, Ontology.Glass_Blowing, Ontology.Gliding, Ontology.Gluten-Free, Ontology.Go_Karts, Ontology.Gold_Buyers, Ontology.Golf, Ontology.Golf_Cart_Dealers, Ontology.Golf_Cart_Rentals, Ontology.Golf_Equipment, Ontology.Golf_Equipment_Shops, Ontology.Golf_Lessons, Ontology.Gozleme, Ontology.Graphic_Design, Ontology.Greek, Ontology.Grill_Services, Ontology.Grilling_Equipment, Ontology.Grocery, Ontology.Grout_Services, Ontology.Guamanian, Ontology.Guest_Houses, Ontology.Guitar_Stores, Ontology.Musical_Instrument_Services, Ontology.Gun/Rifle_Ranges, Ontology.Guns_&_Ammo, Ontology.Gunsmith, Ontology.Gutter_Services, Ontology.Gymnastics, Ontology.Gyudon, Ontology.Hainan, Ontology.Hair_Extensions, Ontology.Hair_Loss_Centers, Ontology.Hair_Removal, Ontology.Hair_Stylists, Ontology.Haitian, Ontology.Hakka, Ontology.Halal, Ontology.Halfway_Houses, Ontology.Halotherapy, Ontology.Hand_Rolls, Ontology.Handball, Ontology.Handyman, Ontology.Hang_Gliding, Ontology.Hardware_Stores, Ontology.Hats, Ontology.Haunted_Houses, Ontology.Hawaiian, Ontology.Hawker_Centre, Ontology.Hazardous_Waste_Disposal, Ontology.Head_Shops, Ontology.Health_Coach, Ontology.Personal_Care_Services, Ontology.Health_Insurance_Offices, Ontology.Health_Markets, Ontology.Health_Retreats, Ontology.Hearing_Aid_Providers, Ontology.Hearing_Aids, Ontology.Heating_&_Air_Conditioning/HVAC, Ontology.Henghwa, Ontology.Henna_Artists, Ontology.Hepatologists, Ontology.Herbal_Shops, Ontology.Herbs_&_Spices, Ontology.Hessian, Ontology.High_Fidelity_Audio_Equipment, Ontology.Hiking, Ontology.Himalayan/Nepalese, Ontology.Hindu_Temples, Ontology.Historical_Tours, Ontology.Hobby_Shops, Ontology.Hockey_Equipment, Ontology.Hokkien, Ontology.Holiday_Decorating_Services, Ontology.Holiday_Decorations, Ontology.Holistic_Animal_Care, Ontology.Home_&_Rental_Insurance, Ontology.Home_Automation, Ontology.Home_Cleaning, Ontology.Home_Decor, Ontology.Home_Developers, Ontology.Home_Energy_Auditors, Ontology.Home_Health_Care, Ontology.Home_Inspectors, Ontology.Home_Network_Installation, Ontology.Home_Organization, Ontology.Home_Staging, Ontology.Home_Theatre_Installation, Ontology.Home_Window_Tinting, Ontology.Homeless_Shelters, Ontology.Homemade_Food, Ontology.Homeopathic, Ontology.Homeowner_Association, Ontology.Honduran, Ontology.Honey, Ontology.Hong_Kong_Style_Cafe, Ontology.Hookah_Bars, Ontology.Horse_Boarding, Ontology.Horse_Equipment_Shops, Ontology.Horse_Racing, Ontology.Races_&_Competitions, Ontology.Horseback_Riding, Ontology.Horumon, Ontology.Hospice, Ontology.Hospitalists, Ontology.Hospitals, Ontology.Hostels, Ontology.Hot_Air_Balloons, Ontology.Hot_Dogs, Ontology.Hot_Pot, Ontology.Hot_Springs, Ontology.Hot_Tub_&_Pool, Ontology.Hot_pot, Ontology.Hotel_bar, Ontology.House_Sitters, Ontology.Housing_Cooperatives, Ontology.Hunan, Ontology.Hungarian, Ontology.Hunting_&_Fishing_Supplies, Ontology.Hybrid_Car_Repair, Ontology.Hydro-jetting, Ontology.Hydroponics, Ontology.Nurseries_&_Gardening, Ontology.Hydrotherapy, Ontology.Hypnosis/Hypnotherapy, Ontology.IP_&_Internet_Law, Ontology.IV_Hydration, Ontology.Iberian, Ontology.Ice_Cream_&_Frozen_Yogurt, Ontology.Ice_Delivery, Ontology.Immigration_Law, Ontology.Immunodermatologists, Ontology.Imported_Food, Ontology.International_Grocery, Ontology.Indian, Ontology.Indonesian, Ontology.Indoor_Landscaping, Ontology.Infectious_Disease_Specialists, Ontology.Installment_Loans, Ontology.Insulation_Installation, Ontology.Interior_Design, Ontology.Interlock_Systems, Ontology.Internal_Medicine, Ontology.International, Ontology.Internet_Booths_&_Calling_Centers, Ontology.Internet_Cafes, Ontology.Internet_Service_Providers, Ontology.Interval_Training_Gyms, Ontology.Investing, Ontology.Irish, Ontology.Irish_Pub, Ontology.Irrigation, Ontology.Island_Pub, Ontology.Pubs, Ontology.Izakaya, Ontology.Jails_&_Prisons, Ontology.Jaliscan, Ontology.Japanese_Curry, Ontology.Japanese_Sweets, Ontology.Jazz_&_Blues, Ontology.Jepenese_Curry, Ontology.Jet_Skis, Ontology.Jewelry, Ontology.Jewelry_Repair, Ontology.Juice_Bars_&_Smoothies, Ontology.Junkyards, Ontology.Kaiseki, Ontology.Karaoke, Ontology.Karaoke_Rental, Ontology.Karate, Ontology.Kebab, Ontology.Keys_&_Locksmiths, Ontology.Kickboxing, Ontology.Kids_Hair_Salons, Ontology.Kimonos, Ontology.Kiosk, Ontology.Kitchen_&_Bath, Ontology.Kitchen_Incubators, Ontology.Kitchen_Supplies, Ontology.Kiteboarding, Ontology.Knife_Sharpening, Ontology.Knitting_Supplies, Ontology.Kombucha, Ontology.Korean, Ontology.Kosher, Ontology.Kushikatsu, Ontology.LAN_Centers, Ontology.Laboratory_Testing, Ontology.Lactation_Services, Ontology.Lahmacun, Ontology.Lakes, Ontology.Land_Surveying, Ontology.Real_Estate_Services, Ontology.Landmarks_&_Historical_Buildings, Ontology.Landscape_Architects, Ontology.Landscaping, Ontology.Language_Schools, Ontology.Laotian, Ontology.Laser_Eye_Surgery/Lasik, Ontology.Optometrists, Ontology.Laser_Hair_Removal, Ontology.Laser_Tag, Ontology.Laundromat, Ontology.Lawn_Bowling, Ontology.Lawn_Services, Ontology.Leather_Goods, Ontology.Lebanese, Ontology.Leisure_Centers, Ontology.Libraries, Ontology.Lice_Services, Ontology.Life_Coach, Ontology.Life_Insurance, Ontology.Lighting_Fixtures_&_Equipment, Ontology.Lighting_Stores, Ontology.Ligurian, Ontology.Limos, Ontology.Linens, Ontology.Lingerie, Ontology.Live/Raw_Food, Ontology.Livestock_Feed_&_Supply, Ontology.Local_Fish_Stores, Ontology.Local_Flavor, Ontology.Lounges, Ontology.Luggage, Ontology.Luggage_Storage, Ontology.Travel_Services, Ontology.Lumbard, Ontology.Macarons, Ontology.Machine_&_Tool_Rental, Ontology.Machine_Shops, Ontology.Madeira, Ontology.Magicians, Ontology.Mags, Ontology.Mah_Jong_Halls, Ontology.Mailbox_Centers, Ontology.Makerspaces, Ontology.Makeup_Artists, Ontology.Malaysian, Ontology.Mamak, Ontology.Marching_Bands, Ontology.Marinas, Ontology.Market_Stalls, Ontology.Marketing, Ontology.Masonry/Concrete, Ontology.Mass_Media, Ontology.Massage_Schools, Ontology.Massage_Therapy, Ontology.Matchmakers, Ontology.Materiale_elettrico, Ontology.Maternity_Wear, Ontology.Mattresses, Ontology.Mauritius, Ontology.Meaderies, Ontology.Meat_Shops, Ontology.Mediators, Ontology.Medical_Cannabis_Referrals, Ontology.Medical_Foot_Care, Ontology.Medical_Law, Ontology.Medical_Supplies, Ontology.Medical_Transportation, Ontology.Meditation_Centers, Ontology.Mediterranean, Ontology.Memory_Care, Ontology.Men's_Clothing, Ontology.Men's_Hair_Salons, Ontology.Metal_Detector_Services, Ontology.Metal_Fabricators, Ontology.Metro_Stations, Ontology.Middle_Schools_&_High_Schools, Ontology.Midwives, Ontology.Military_Surplus, Ontology.Milkshake_Bars, Ontology.Minho, Ontology.Mini_Golf, Ontology.Misting_System_Services, Ontology.Mobile_Clinics, Ontology.Mobile_Dent_Repair, Ontology.Mobile_Home_Dealers, Ontology.Mobile_Home_Parks, Ontology.Mobile_Home_Repair, Ontology.Mobile_Phone_Accessories, Ontology.Mobile_Phone_Repair, Ontology.Mobile_Phones, Ontology.Mobility_Equipment_Sales_&_Services, Ontology.Modern_European, Ontology.Mohels, Ontology.Mongolian, Ontology.Montessori_Schools, Ontology.Moroccan, Ontology.Mortgage_Brokers, Ontology.Mortgage_Lenders, Ontology.Mortuary_Services, Ontology.Mosques, Ontology.Motorcycle_Dealers, Ontology.Motorcycle_Gear, Ontology.Motorcycle_Parts_&_Supplies, Ontology.Motorcycle_Rental, Ontology.Motorcycle_Repair, Ontology.Motorsport_Vehicle_Dealers, Ontology.Motorsport_Vehicle_Repairs, Ontology.Mountain_Biking, Ontology.Mountain_Huts, Ontology.Movers, Ontology.Muay_Thai, Ontology.Mulled_Wine, Ontology.Municipality, Ontology.Music_&_DVDs, Ontology.Music_&_Video, Ontology.Music_Production_Services, Ontology.Music_Venues, Ontology.Musical_Instruments_&_Teachers, Ontology.Musicians, Ontology.Mystics, Ontology.Nail_Salons, Ontology.Nail_Technicians, Ontology.Nanny_Services, Ontology.Napoletana, Ontology.Nasi_Lemak, Ontology.Natural_Gas_Suppliers, Ontology.Naturopathic/Holistic, Ontology.Nephrologists, Ontology.Neurologist, Ontology.Neuropathologists, Ontology.Neurotologists, Ontology.New_Mexican_Cuisine, Ontology.New_Mexican_Food, Ontology.Newspapers_&_Magazines, Ontology.Nicaraguan, Ontology.Nicoise, Ontology.Noodle, Ontology.Noodles, Ontology.Northeastern_Brazilian, Ontology.Northern_Brazilian, Ontology.Northern_German, Ontology.Northern_Mexican, Ontology.Notaries, Ontology.Nudist, Ontology.Nurse_Practitioner, Ontology.Nursing_Schools, Ontology.Nutritionists, Ontology.Nyonya, Ontology.Oaxacan, Ontology.Observatories, Ontology.Obstetricians_&_Gynecologists, Ontology.Occupational_Therapy, Ontology.Oden, Ontology.Office_Cleaning, Ontology.Office_Equipment, Ontology.Officiants, Ontology.Oil_Change_Stations, Ontology.Okinawan, Ontology.Okonomiyaki, Ontology.Olive_Oil, Ontology.Oncologist, Ontology.Onigiri, Ontology.Opera_&_Ballet, Ontology.Ophthalmologists, Ontology.Oral_Surgeons, Ontology.Organ_&_Tissue_Donor_Services, Ontology.Organic_Stores, Ontology.Orthodontists, Ontology.Orthopedists, Ontology.Osteopathic_Physicians, Ontology.Osteopaths, Ontology.Otologists, Ontology.Ottoman_Cuisine, Ontology.Outdoor_Furniture_Stores, Ontology.Outdoor_Gear, Ontology.Outdoor_Movies, Ontology.Outdoor_Power_Equipment_Services, Ontology.Outlet_Stores, Ontology.Oxygen_Bars, Ontology.Oyakodon, Ontology.Pachinko, Ontology.Packing_Services, Ontology.Packing_Supplies, Ontology.Paddleboarding, Ontology.Pain_Management, Ontology.Paint-Your-Own_Pottery, Ontology.Paint_&_Sip, Ontology.Paint_Stores, Ontology.Paintball, Ontology.Painters, Ontology.Pakistani, Ontology.Palatine, Ontology.Pan_Asian, Ontology.Pancakes, Ontology.Panzerotti, Ontology.Paragliding, Ontology.Parasailing, Ontology.Parenting_Classes, Ontology.Parking, Ontology.Parklets, Ontology.Party_&_Event_Planning, Ontology.Party_Related, Ontology.Party_Bike_Rentals, Ontology.Party_Bus_Rentals, Ontology.Party_Characters, Ontology.Party_Supplies, Ontology.Passport_&_Visa_Services, Ontology.Pasta_Shops, Ontology.Patent_Law, Ontology.Pathologists, Ontology.Patio_Coverings, Ontology.Patisserie/Cake_Shop, Ontology.Pawn_Shops, Ontology.Payroll_Services, Ontology.Pediatric_Dentists, Ontology.Pediatricians, Ontology.Pedicabs, Ontology.Pekinese, Ontology.Pensions, Ontology.Performing_Arts, Ontology.Perfume, Ontology.Periodontists, Ontology.Permanent_Makeup, Ontology.Persian/Iranian, Ontology.Personal_Assistants, Ontology.Personal_Chefs, Ontology.Personal_Injury_Law, Ontology.Personal_Shopping, Ontology.Peruvian, Ontology.Pest_Control, Ontology.Pet_Adoption, Ontology.Pet_Boarding, Ontology.Pet_Sitting, Ontology.Pet_Breeders, Ontology.Pet_Cremation_Services, Ontology.Pet_Groomers, Ontology.Pet_Hospice, Ontology.Pet_Insurance, Ontology.Pet_Photography, Ontology.Pet_Training, Ontology.Pet_Transportation, Ontology.Pet_Waste_Removal, Ontology.Petting_Zoos, Ontology.Zoos, Ontology.Pharmacy, Ontology.Phlebologists, Ontology.Photo_Booth_Rentals, Ontology.Photography_Classes, Ontology.Photography_Stores_&_Services, Ontology.Physical_Therapy, Ontology.Piadina, Ontology.Piano_Bars, Ontology.Piano_Services, Ontology.Piano_Stores, Ontology.Pick_Your_Own_Farms, Ontology.Pickleball, Ontology.Piemonte, Ontology.Piercing, Ontology.Pierogis, Ontology.Polish, Ontology.Pilates, Ontology.Pita, Ontology.Pizza, Ontology.Placenta_Encapsulations, Ontology.Planetarium, Ontology.Plastic_Surgeons, Ontology.Playgrounds, Ontology.Playsets, Ontology.Plus_Size_Fashion, Ontology.Podiatrists, Ontology.Poke, Ontology.Pole_Dancing_Classes, Ontology.Police_Departments, Ontology.Polynesian, Ontology.Pool_&_Billiards, Ontology.Pool_&_Hot_Tub_Service, Ontology.Pool_Cleaners, Ontology.Pool_Halls, Ontology.Pop-Up_Restaurants, Ontology.Pop-up_Shops, Ontology.Popcorn_Shops, Ontology.Portable_Toilet_Services, Ontology.Post_Offices, Ontology.Poutineries, Ontology.Powder_Coating, Ontology.Preschools, Ontology.Pressure_Washers, Ontology.Pretzels, Ontology.Preventive_Medicine, Ontology.Print_Media, Ontology.Printing_Services, Ontology.Private_Investigation, Ontology.Private_Jet_Charter, Ontology.Private_Schools, Ontology.Private_Tutors, Ontology.Process_Servers, Ontology.Proctologists, Ontology.Product_Design, Ontology.Professional_Sports_Teams, Ontology.Propane, Ontology.Property_Management, Ontology.Props, Ontology.Prosthetics, Ontology.Prosthodontists, Ontology.Provencal, Ontology.Psychiatrists, Ontology.Psychic_Mediums, Ontology.Psychics, Ontology.Psychoanalysts, Ontology.Psychologists, Ontology.Psychotherapists, Ontology.Pub_Food, Ontology.Public_Adjusters, Ontology.Public_Art, Ontology.Public_Markets, Ontology.Public_Plazas, Ontology.Public_Relations, Ontology.Public_Transportation, Ontology.Pueblan, Ontology.Puerto_Rican, Ontology.Pulmonologist, Ontology.Pulquerias, Ontology.Pumpkin_Patches, Ontology.Qi_Gong, Ontology.RV_Dealers, Ontology.RV_Parks, Ontology.RV_Rental, Ontology.RV_Repair, Ontology.Race_Tracks, Ontology.Racing_Experience, Ontology.Radio_Stations, Ontology.Radiologists, Ontology.Rafting/Kayaking, Ontology.Ramen, Ontology.Ranches, Ontology.Real_Estate_Law, Ontology.Real_Estate_Photography, Ontology.Record_Labels, Ontology.Recording_&_Rehearsal_Studios, Ontology.Recreation_Centers, Ontology.Recycling_Center, Ontology.Refinishing_Services, Ontology.Reflexology, Ontology.Registration_Services, Ontology.Registry_Office, Ontology.Rehabilitaion_Center, Ontology.Rehabilitation_Center, Ontology.Reiki, Ontology.Religious_Items, Ontology.Religious_Schools, Ontology.Reproductive_Health_Services, Ontology.Reptile_Shops, Ontology.Residences, Ontology.Resorts, Ontology.Rest_Stops, Ontology.Restaurant_Supplies, Ontology.Wholesalers, Ontology.Retina_Specialists, Ontology.Retirement_Homes, Ontology.Reunion, Ontology.Rheumatologists, Ontology.Rhinelandian, Ontology.Ribatejo, Ontology.Roadside_Assistance, Ontology.Robatayaki, Ontology.Rock_Climbing, Ontology.Rodeo, Ontology.Rodizios, Ontology.Rolfing, Ontology.Roman, Ontology.Roof_Inspectors, Ontology.Roofing, Ontology.Rotisserie_Chicken, Ontology.Rugs, Ontology.Russian, Ontology.Ryokan, Ontology.Safe_Stores, Ontology.Safety_Equipment, Ontology.Sailing, Ontology.Sake_Bars, Ontology.Salad, Ontology.Salumerie, Ontology.Salvadoran, Ontology.Samba_Schools, Ontology.Sandblasting, Ontology.Sandwiches, Ontology.Sardinian, Ontology.Sauna_Installation_&_Repair, Ontology.Saunas, Ontology.Scandinavian, Ontology.Scandinavian_Design, Ontology.Scavenger_Hunts, Ontology.Scooter_Rentals, Ontology.Scooter_Tours, Ontology.Scottish, Ontology.Screen_Printing, Ontology.Screen_Printing/T-Shirt_Printing, Ontology.Scuba_Diving, Ontology.Seafood, Ontology.Seafood_Markets, Ontology.Security_Services, Ontology.Security_Systems, Ontology.Self-defense_Classes, Ontology.Self_Storage, Ontology.Senegalese, Ontology.Senior_Centers, Ontology.Septic_Services, Ontology.Service, Ontology.Service_Stations, Ontology.Session_Photography, Ontology.Sewing_&_Alterations, Ontology.Sex_Therapists, Ontology.Shades_&_Blinds, Ontology.Shanghainese, Ontology.Shared_Office_Spaces, Ontology.Shared_Taxis, Ontology.Shaved_Ice, Ontology.Shaved_Snow, Ontology.Sheds_&_Outdoor_Storage, Ontology.Shipping_Centers, Ontology.Shoe_Repair, Ontology.Shoe_Shine, Ontology.Shoe_Stores, Ontology.Shopping_Centers, Ontology.Shopping_Passages, Ontology.Shredding_Services, Ontology.Shrines, Ontology.Shutters, Ontology.Sicilian, Ontology.Siding, Ontology.Signature_Cuisine, Ontology.Signmaking, Ontology.Sikh_Temples, Ontology.Silent_Disco, Ontology.Singaporean, Ontology.Skate_Parks, Ontology.Skate_Shops, Ontology.Skating_Rinks, Ontology.Ski_&_Snowboard_Shops, Ontology.Ski_Resorts, Ontology.Ski_Schools, Ontology.Skiing, Ontology.Skilled_Nursing, Ontology.Skydiving, Ontology.Sledding, Ontology.Sleep_Specialists, Ontology.Sleepwear, Ontology.Slovakian, Ontology.Smog_Check_Stations, Ontology.Smokehouse, Ontology.Smoking_Areas, Ontology.Snorkeling, Ontology.Snow_Removal, Ontology.Snuggle_Services, Ontology.Soba, Ontology.Soccer, Ontology.Social_Clubs, Ontology.Social_Security_Law, Ontology.Software_Development, Ontology.Solar_Installation, Ontology.Solar_Panel_Cleaning, Ontology.Somali, Ontology.Sommelier_Services, Ontology.Sophrologists, Ontology.Soul_Food, Ontology.Soup, Ontology.South_African, Ontology.Southern, Ontology.Souvenir_Shops, Ontology.Speakeasies, Ontology.Special_Bikes, Ontology.Special_Education, Ontology.Speech_Therapists, Ontology.Speech_Training, Ontology.Sperm_Clinic, Ontology.Spin_Classes, Ontology.Spine_Surgeons, Ontology.Spiritism, Ontology.Spiritual_Shop, Ontology.Sport_Equipment_Hire, Ontology.Sports_Bars, Ontology.Sports_Betting, Ontology.Sports_Clubs, Ontology.Sports_Medicine, Ontology.Sports_Psychologists, Ontology.Spray_Tanning, Ontology.Tanning, Ontology.Squash, Ontology.Sri_Lankan, Ontology.Stadiums_&_Arenas, Ontology.Steakhouses, Ontology.Stockings, Ontology.Stonemasons, Ontology.Storefront_Clinics, Ontology.Street_Art, Ontology.Street_Vendors, Ontology.Strip_Clubs, Ontology.Striptease_Dancers, Ontology.Structural_Engineers, Ontology.Stucco_Services, Ontology.Studio_Taping, Ontology.Sugar_Shacks, Ontology.Sugaring, Ontology.Sukiyaki, Ontology.Summer_Camps, Ontology.Sunglasses, Ontology.Supper_Clubs, Ontology.Surf_Lifesaving, Ontology.Surf_Schools, Ontology.Surf_Shop, Ontology.Surfing, Ontology.Surgeons, Ontology.Sushi_Bars, Ontology.Swimming_Lessons/Schools, Ontology.Swimming_Pools, Ontology.Swimwear, Ontology.Swiss_Food, Ontology.Synagogues, Ontology.Syrian, Ontology.Szechuan, Ontology.Szuchuan, Ontology.TV_Mounting, Ontology.Tabac, Ontology.Tablao_Flamenco, Ontology.Tabletop_Games, Ontology.Tableware, Ontology.Tacos, Ontology.Taekwondo, Ontology.Tai_Chi, Ontology.Taiwanese, Ontology.Taiyaki, Ontology.Takoyaki, Ontology.Talent_Agencies, Ontology.Tamales, Ontology.Tanning_Beds, Ontology.Taoist_Temples, Ontology.Tapas/Small_Plates, Ontology.Tapas_Bars, Ontology.Tapas_bars, Ontology.Tappanyaki, Ontology.Tatoo_Removal, Ontology.Tattoo, Ontology.Tattoo_Removal, Ontology.Tax_Law, Ontology.Tax_Office, Ontology.Tax_Services, Ontology.Taxidermy, Ontology.Taxis, Ontology.Tea_Rooms, Ontology.Teacher_Supplies, Ontology.Team_Building_Activities, Ontology.Teeth_Whitening, Ontology.Telecommunications, Ontology.Television_Service_Providers, Ontology.Television_Stations, Ontology.Tempura, Ontology.Tenant_and_Eviction_Law, Ontology.Tennis, Ontology.Teochew, Ontology.Teppanyaki, Ontology.Test_Preparation, Ontology.Tex-Mex, Ontology.Thai, Ontology.Themed_Cafes, Ontology.Threading_Services, Ontology.Thrift_Stores, Ontology.Ticket_Sales, Ontology.Tickets, Ontology.Tiki_Bars, Ontology.Tiling, Ontology.Tires, Ontology.Title_Loans, Ontology.Tobacco_Shops, Ontology.Tofu_Shops, Ontology.Tonkatsu, Ontology.Torshi, Ontology.Tortillas, Ontology.Towing, Ontology.Town_Car_Service, Ontology.Town_Hall, Ontology.Toxicologists, Ontology.Toy_Stores, Ontology.Trade_Fairs, Ontology.Traditional_Chinese_Medicine, Ontology.Traditional_Clothing, Ontology.Traffic_Schools, Ontology.Traffic_Ticketing_Law, Ontology.Trailer_Dealers, Ontology.Trailer_Rental, Ontology.Trailer_Repair, Ontology.Train_Stations, Ontology.Trainers, Ontology.Trains, Ontology.Trampoline_Parks, Ontology.Translation_Services, Ontology.Transmission_Repair, Ontology.Tras-os-Montes, Ontology.Travel_Agents, Ontology.Tree_Services, Ontology.Trinidadian, Ontology.Trivia_Hosts, Ontology.Trophy_Shops, Ontology.Tropical_Medicine, Ontology.Truck_Rental, Ontology.Trusts, Ontology.Tubing, Ontology.Tui_Na, Ontology.Turkish_Ravioli, Ontology.Tuscan, Ontology.Tutoring_Centers, Ontology.Udon, Ontology.Ukrainian, Ontology.Ultrasound_Imaging_Centers, Ontology.Unagi, Ontology.Undersea/Hyperbaric_Medicine, Ontology.Uniforms, Ontology.University_Housing, Ontology.Unofficial_Yelp_Events, Ontology.Urologists, Ontology.Used, Ontology.Used,_Vintage_&_Consignment, Ontology.Used_Bookstore, Ontology.Used_Car_Dealers, Ontology.Uzbek, Ontology.Vacation_Rental_Agents, Ontology.Vacation_Rentals, Ontology.Valet_Services, Ontology.Vape_Shops, Ontology.Vascular_Medicine, Ontology.Vegan, Ontology.Vegetarian, Ontology.Vehicle_Shipping, Ontology.Vehicle_Wraps, Ontology.Venetian, Ontology.Venezuelan, Ontology.Venues_&_Event_Spaces, Ontology.Vermouth_Bars, Ontology.Veterans_Organizations, Ontology.Veterinarians, Ontology.Video/Film_Production, Ontology.Video_Game_Stores, Ontology.Videographers, Ontology.Videos_&_Video_Game_Rental, Ontology.Vietnamese, Ontology.Vintage_&_Consignment, Ontology.Vinyl_Records, Ontology.Virtual_Reality_Centers, Ontology.Visitor_Centers, Ontology.Vitamins_&_Supplements, Ontology.Vocal_Coach, Ontology.Vocational_&_Technical_School, Ontology.Volleyball, Ontology.Waffles, Ontology.Waldorf_Schools, Ontology.Walk-in_Clinics, Ontology.Walking_Tours, Ontology.Wallpapering, Ontology.Watch_Repair, Ontology.Watches, Ontology.Water_Delivery, Ontology.Water_Heater_Installation/Repair, Ontology.Water_Parks, Ontology.Water_Purification_Services, Ontology.Water_Stores, Ontology.Water_Suppliers, Ontology.Water_Taxis, Ontology.Waterproofing, Ontology.Waxing, Ontology.Web_Design, Ontology.Wedding_Chapels, Ontology.Wedding_Planning, Ontology.Weight_Loss_Centers, Ontology.Well_Drilling, Ontology.Western, Ontology.Western_Style_Japanese_Food, Ontology.Whale_Watching_Tours, Ontology.Wheel_&_Rim_Repair, Ontology.Whiskey_Bars, Ontology.Wholesale_Stores, Ontology.Wigs, Ontology.Wildlife_Control, Ontology.Wildlife_Hunting_Ranges, Ontology.Wills, Ontology.Window_Washing, Ontology.Windows_Installation, Ontology.Windshield_Installation_&_Repair, Ontology.Wine_&_Spirits, Ontology.Wine_Bars, Ontology.Wine_Tasting_Classes, Ontology.Wine_Tasting_Room, Ontology.Wineries, Ontology.Wine_Tours, Ontology.Women's_Clothing, Ontology.Workers_Compensation_Law, Ontology.Wraps, Ontology.Yakiniku, Ontology.Yakitori, Ontology.Yelp_Events, Ontology.Yoga, Ontology.Youth_Club, Ontology.Yucatan, Ontology.Zapiekanka, Ontology.Ziplining, Ontology.Zorbing, Ontology.armenian, Ontology.barbeque, Ontology.basque, Ontology.bulgarian, Ontology.burmese, Ontology.diners, Ontology.eriterean, Ontology.georgian, Ontology.laotian, Ontology.podiatrists, Ontology.senegalese]\n",
            "Ontology.Sandwiches\n"
          ],
          "name": "stdout"
        }
      ]
    },
    {
      "cell_type": "code",
      "metadata": {
        "id": "iyLh5OtVacpi"
      },
      "source": [
        "undef=[]\n",
        "for i in file_b:\n",
        "  #print(i)\n",
        "  business=json.loads(i)\n",
        "  id=business[\"business_id\"]\n",
        "  cat=business[\"categories\"].split(\", \")\n",
        "  \n",
        "  inst_bus=onto.Service(id)\n",
        "  for c in cat:\n",
        "\n",
        "    c=c.replace(\" \",\"_\").replace(\"(\",\"\").replace(\")\",\"\")\n",
        "\n",
        "    if(onto[c]==None):\n",
        "      undef.append(c)\n",
        "\n",
        "    else:\n",
        "      inst_bus.is_a.append(onto.Has_Category.some(onto[c]))\n",
        "     \n"
      ],
      "execution_count": null,
      "outputs": []
    },
    {
      "cell_type": "markdown",
      "metadata": {
        "id": "Ezxnr6HzDtz0"
      },
      "source": [
        "vérrifier si des catégories n'ont pas été prise en compte"
      ]
    },
    {
      "cell_type": "code",
      "metadata": {
        "id": "DfJDWR_lTg8S",
        "outputId": "7c558327-582e-4bf0-9d3a-30d025593878",
        "colab": {
          "base_uri": "https://localhost:8080/",
          "height": 34
        }
      },
      "source": [
        "count = {}\n",
        "for k in undef:\n",
        "  count[k] = count.get(k,0)+1\n",
        "\n",
        "sort_orders = sorted(count.items(), key=lambda x: x[1], reverse=True)\n",
        "print(len(sort_orders))\n",
        "for c in sort_orders:\n",
        "  print(c[0], c[1])"
      ],
      "execution_count": null,
      "outputs": [
        {
          "output_type": "stream",
          "text": [
            "0\n"
          ],
          "name": "stdout"
        }
      ]
    },
    {
      "cell_type": "code",
      "metadata": {
        "id": "tfo5KKTEbftj",
        "outputId": "8c52b92d-f488-41a1-bed9-9439777e3c18",
        "colab": {
          "base_uri": "https://localhost:8080/",
          "height": 34
        }
      },
      "source": [
        "for i in file_u:\n",
        "\n",
        "  #print(i)\n",
        "  client=json.loads(i)\n",
        "  id=client[\"user_id\"]\n",
        "  cat=client[\"categories\"].keys()\n",
        "\n",
        "\n",
        "  inst_us=onto.Client(id)\n",
        "\n",
        "  cpt=0\n",
        "  for c in cat:\n",
        "\n",
        "    c=c.replace(\" \",\"_\").replace(\"(\",\"\").replace(\")\",\"\")\n",
        "    #print(i)\n",
        "    #print(inst_us.is_a)\n",
        "    try:\n",
        "\n",
        "      if onto[c]!=None:\n",
        "        inst_us.is_a.append(onto.Has_Category.some(onto[c]))\n",
        "    except:\n",
        "      cpt=cpt+1 \n",
        "    \n",
        "print(cpt)\n",
        "  \n",
        "  "
      ],
      "execution_count": null,
      "outputs": [
        {
          "output_type": "stream",
          "text": [
            "0\n"
          ],
          "name": "stdout"
        }
      ]
    },
    {
      "cell_type": "code",
      "metadata": {
        "id": "GqjEvdBwcMpA"
      },
      "source": [
        "onto.save(\"Ontology_filled.owl\")"
      ],
      "execution_count": null,
      "outputs": []
    }
  ]
}